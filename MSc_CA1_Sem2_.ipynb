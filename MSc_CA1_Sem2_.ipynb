{
 "cells": [
  {
   "cell_type": "markdown",
   "id": "195a849e",
   "metadata": {},
   "source": [
    "## MSc_CA1_Sem2\n",
    "\n",
    "### Continuous Assessment 1 - Semester 2\n",
    "\n",
    "Advanced Data Analytics Big Data Storage and Processing\n",
    "\n",
    "<b>Deep Learning using Big Data: Country-Specific Popularity Prediction:</b>\n",
    "\n",
    "Objective: Predict the popularity of songs in specific countries based on their historical rankings and features. This can help identify regional trends and preferences.\n",
    "\n",
    "Approach:\n",
    "\n",
    "Create separate models for each country or use a multi-output model with country labels as a categorical feature. Include historical rankings, audio features, and possibly genre information as input. Predict the popularity ranking specific to each country. Challenges:\n",
    "\n",
    "Ensuring that the model can effectively generalize to different countries. Handling cases where certain songs may be popular in one country but not in another.\n",
    "\n",
    "Clarissa Cardoso - 2020274"
   ]
  },
  {
   "cell_type": "code",
   "execution_count": 1,
   "id": "eb9b6db4",
   "metadata": {},
   "outputs": [],
   "source": [
    "#importing libraries\n",
    "import warnings\n",
    "warnings.filterwarnings(\"ignore\")\n",
    "\n",
    "import pandas as pd #dataframes \n",
    "import numpy as np #linear algebra\n",
    "import seaborn as sns #visualization\n",
    "sns.set(color_codes=True)\n",
    "\n",
    "\n",
    "import scipy.stats as stats #statistical resources\n",
    "\n",
    "import matplotlib.pyplot as plt #visualisation \n",
    "%matplotlib inline \n",
    "import matplotlib.pyplot as plt\n",
    "import numpy as np\n",
    "from matplotlib import colors\n",
    "from matplotlib.ticker import PercentFormatter\n",
    "\n",
    "from matplotlib.figure import Figure\n",
    "from matplotlib.backends.backend_agg import FigureCanvas\n",
    "\n",
    "\n",
    "import plotly.express as px\n",
    "import plotly.graph_objects as go\n",
    "import matplotlib.ticker as ticker\n",
    "\n",
    "import plotly.graph_objects as go\n",
    "from plotly.subplots import make_subplots\n",
    "\n",
    "\n",
    "import os\n",
    "\n",
    "from sklearn.model_selection import train_test_split # importing function to split the data training and test.\n",
    "from sklearn.preprocessing import MinMaxScaler # Import the MinMaxScaler module from sklearn.preprocessing library\n",
    "from sklearn.linear_model import LinearRegression # importing to performe linear regression. \n",
    "from sklearn.metrics import make_scorer, r2_score # Importing from Metrics module\n",
    "from sklearn.preprocessing import StandardScaler # standardize the data\n",
    "from sklearn import metrics # Metrics module from scikit-learn\n",
    "from sklearn.model_selection import GridSearchCV # importing for hyperparameter tunning\n",
    "from sklearn.metrics import mean_squared_error # importing mse\n",
    "from scipy.stats import shapiro\n"
   ]
  },
  {
   "cell_type": "code",
   "execution_count": 6,
   "id": "1ee775dd",
   "metadata": {},
   "outputs": [
    {
     "name": "stderr",
     "output_type": "stream",
     "text": [
      "                                                                                \r"
     ]
    }
   ],
   "source": [
    "from pyspark.sql import SparkSession\n",
    "\n",
    "# Initialize SparkSession\n",
    "spark = SparkSession.builder.appName(\"WeeklySongPrediction\").getOrCreate()\n",
    "\n",
    "# Use the correct local file path to your CSV file\n",
    "file_path = 'file:////home/hduser/Downloads/charts_irl.csv'\n",
    "\n",
    "# Read the CSV file\n",
    "charts_irl = spark.read.csv(file_path, header=True, inferSchema=True)"
   ]
  },
  {
   "cell_type": "code",
   "execution_count": 10,
   "id": "b9a05318",
   "metadata": {},
   "outputs": [
    {
     "name": "stdout",
     "output_type": "stream",
     "text": [
      "+--------------------+----+----------+--------------------+--------------------+-------+------+-------------+-------+\n",
      "|               title|rank|      date|              artist|                 url| region| chart|        trend|streams|\n",
      "+--------------------+----+----------+--------------------+--------------------+-------+------+-------------+-------+\n",
      "|Rockabye (feat. S...|   1|2017-01-01|        Clean Bandit|https://open.spot...|Ireland|top200|SAME_POSITION|24914.0|\n",
      "|             Starboy|   2|2017-01-01|The Weeknd, Daft ...|https://open.spot...|Ireland|top200|SAME_POSITION|20407.0|\n",
      "|Say You Won't Let Go|   3|2017-01-01|        James Arthur|https://open.spot...|Ireland|top200|      MOVE_UP|18749.0|\n",
      "|              Sexual|   4|2017-01-01|         NEIKED, Dyo|https://open.spot...|Ireland|top200|    MOVE_DOWN|18662.0|\n",
      "|           All Night|   5|2017-01-01|   The Vamps, Matoma|https://open.spot...|Ireland|top200|    MOVE_DOWN|16781.0|\n",
      "|              Closer|   6|2017-01-01|The Chainsmokers,...|https://open.spot...|Ireland|top200|      MOVE_UP|16423.0|\n",
      "|    Don't Wanna Know|   7|2017-01-01|Maroon 5, Kendric...|https://open.spot...|Ireland|top200|    MOVE_DOWN|16287.0|\n",
      "|Call On Me - Ryan...|   8|2017-01-01|             Starley|https://open.spot...|Ireland|top200|SAME_POSITION|15645.0|\n",
      "|        Just Hold On|   9|2017-01-01|Steve Aoki, Louis...|https://open.spot...|Ireland|top200|      MOVE_UP|15182.0|\n",
      "|           One Dance|  10|2017-01-01| Drake, WizKid, Kyla|https://open.spot...|Ireland|top200|    MOVE_DOWN|14813.0|\n",
      "|        By Your Side|  11|2017-01-01|    Jonas Blue, RAYE|https://open.spot...|Ireland|top200|      MOVE_UP|13794.0|\n",
      "|        I Would Like|  12|2017-01-01|        Zara Larsson|https://open.spot...|Ireland|top200|      MOVE_UP|13626.0|\n",
      "|               Touch|  13|2017-01-01|          Little Mix|https://open.spot...|Ireland|top200|      MOVE_UP|13515.0|\n",
      "|       Black Beatles|  14|2017-01-01|Rae Sremmurd, Guc...|https://open.spot...|Ireland|top200|      MOVE_UP|13391.0|\n",
      "|\"I Don’t Wanna Li...|  15|2017-01-01|  ZAYN, Taylor Swift|https://open.spot...|Ireland|top200|      MOVE_UP|13324.0|\n",
      "|           24K Magic|  16|2017-01-01|          Bruno Mars|https://open.spot...|Ireland|top200|      MOVE_UP|13198.0|\n",
      "|    I Feel It Coming|  17|2017-01-01|The Weeknd, Daft ...|https://open.spot...|Ireland|top200|      MOVE_UP|13179.0|\n",
      "|     Let Me Love You|  18|2017-01-01|DJ Snake, Justin ...|https://open.spot...|Ireland|top200|    MOVE_DOWN|13149.0|\n",
      "|            The Mack|  19|2017-01-01|Nevada, Mark Morr...|https://open.spot...|Ireland|top200|      MOVE_UP|12638.0|\n",
      "|Cold Water (feat....|  20|2017-01-01|         Major Lazer|https://open.spot...|Ireland|top200|    MOVE_DOWN|12442.0|\n",
      "+--------------------+----+----------+--------------------+--------------------+-------+------+-------------+-------+\n",
      "only showing top 20 rows\n",
      "\n"
     ]
    }
   ],
   "source": [
    "#display first 20 rows of ireland charts \n",
    "charts_irl.show()\n"
   ]
  },
  {
   "cell_type": "code",
   "execution_count": 11,
   "id": "ea7cbbd5",
   "metadata": {},
   "outputs": [
    {
     "name": "stdout",
     "output_type": "stream",
     "text": [
      "root\n",
      " |-- title: string (nullable = true)\n",
      " |-- rank: string (nullable = true)\n",
      " |-- date: string (nullable = true)\n",
      " |-- artist: string (nullable = true)\n",
      " |-- url: string (nullable = true)\n",
      " |-- region: string (nullable = true)\n",
      " |-- chart: string (nullable = true)\n",
      " |-- trend: string (nullable = true)\n",
      " |-- streams: string (nullable = true)\n",
      "\n"
     ]
    }
   ],
   "source": [
    "# view the schema for the dataset\n",
    "charts_irl.printSchema()"
   ]
  },
  {
   "cell_type": "code",
   "execution_count": 12,
   "id": "37bd5601",
   "metadata": {},
   "outputs": [
    {
     "name": "stderr",
     "output_type": "stream",
     "text": [
      "[Stage 4:============================================>              (3 + 1) / 4]\r"
     ]
    },
    {
     "name": "stdout",
     "output_type": "stream",
     "text": [
      "+-------+---------------+------------------+------------------+-------------------------------+--------------------+--------------------+-------+-------+------------------+\n",
      "|summary|          title|              rank|              date|                         artist|                 url|              region|  chart|  trend|           streams|\n",
      "+-------+---------------+------------------+------------------+-------------------------------+--------------------+--------------------+-------+-------+------------------+\n",
      "|  count|         449311|            449311|            449311|                         449311|              449311|              449311| 449311| 449311|            358529|\n",
      "|   mean|       Infinity| 85.33181080593786|12.979166666666666|              8796.844444444445|                null|                null|   null|   null|11141.097649383048|\n",
      "| stddev|            NaN|60.072093983485395|14.247791293305383|              39552.98827175075|                null|                null|   null|   null|10168.109008641002|\n",
      "|    min|              !|     Black Thought|  Q-Tip & Denaun)\"|           \"Bobby \"\"Boris\"\" ...|  The Crypt-Kickers\"|              Eminem|Ireland|Ireland|           10000.0|\n",
      "|    max|항상 (HANGSANG)|                99|                 9|遠野高志, 加島優, 矢口恭介, ...|https://open.spot...|https://open.spot...|viral50|viral50|            top200|\n",
      "+-------+---------------+------------------+------------------+-------------------------------+--------------------+--------------------+-------+-------+------------------+\n",
      "\n"
     ]
    },
    {
     "name": "stderr",
     "output_type": "stream",
     "text": [
      "\r",
      "                                                                                \r"
     ]
    }
   ],
   "source": [
    "#finding summary statistics\n",
    "charts_irl.describe().show()"
   ]
  },
  {
   "cell_type": "code",
   "execution_count": null,
   "id": "e7e538bd",
   "metadata": {},
   "outputs": [],
   "source": []
  },
  {
   "cell_type": "code",
   "execution_count": null,
   "id": "9309e592",
   "metadata": {},
   "outputs": [],
   "source": []
  }
 ],
 "metadata": {
  "kernelspec": {
   "display_name": "Python 3 (ipykernel)",
   "language": "python",
   "name": "python3"
  },
  "language_info": {
   "codemirror_mode": {
    "name": "ipython",
    "version": 3
   },
   "file_extension": ".py",
   "mimetype": "text/x-python",
   "name": "python",
   "nbconvert_exporter": "python",
   "pygments_lexer": "ipython3",
   "version": "3.10.12"
  }
 },
 "nbformat": 4,
 "nbformat_minor": 5
}
