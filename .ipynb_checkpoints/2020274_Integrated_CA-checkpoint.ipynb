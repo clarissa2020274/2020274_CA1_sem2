{
 "cells": [
  {
   "cell_type": "markdown",
   "id": "195a849e",
   "metadata": {},
   "source": [
    "## MSc Data Analytics\n",
    "\n",
    "### Integrated CA 1 - Semester 2 \n",
    "### Clarissa Cardoso - 2020274\n",
    "\n",
    "\n",
    "## Advanced Data Analytics Big Data Storage and Processing\n",
    "\n",
    "\n",
    "### Spotify Top 200 songs Ireland - Deep Learning using Big Data for predicting weekly charts.\n",
    "\n",
    "The goal of this project is to develop a deep learning algorithm using big data tools (in this case pyspark libraries) to predict song popularity in Ireland. \n",
    "\n",
    "\n",
    "This Notebook is divided in smaller sections as follows:\n",
    "- 1. Introduction\n",
    "\n",
    "- 2.Data Preparation and EDA: Gather historical data on the top 200 songs in Ireland from Spotify. Clean, transform, and prepare the data for training the predictive model.\n",
    "\n",
    "- 3.Feature Engineering: Identify and select relevant features such as song attributes, historical rankings, and number of streams to understand how they influence song popularity.\n",
    "\n",
    "- 4.Model Development: Utilize deep learning techniques, employing Recurrent Neural Networks (RNNs) or Long Short-Term Memory networks (LSTMs), to build a predictive model for song ranking.\n",
    "\n",
    "- 5.Training and Validation: Train the model on historical data, validating its performance against known outcomes to ensure accuracy and reliability. Changing necessary parameters when needed.\n",
    "\n",
    "- 6.Forecasting: Employ the trained model to predict the top 10 songs in Ireland's weekly charts for upcoming weeks, providing valuable insights for the persons involved.\n",
    "\n",
    "\n",
    " \n",
    " >Challenges:\n",
    "Temporal Dynamics: Account for evolving musical trends and preferences, ensuring the model remains adaptable over time. \n",
    "Data Quality Assurance: Ensure the collected data is accurate, complete, and representative of the Irish music landscape.\n",
    "Model Fine-Tuning: Continuously refine and improve the model to enhance its predictive capabilities and adaptability to changing trends.\"\n",
    "\n",
    "\n",
    "## 1. Introduction\n",
    "\n",
    "\n",
    "\n",
    "Original dataset obtained in kaggle (available at: https://www.kaggle.com/datasets/dhruvildave/spotify-charts) and containg the historical data of the TOP200 charts for over 70 countries, collected between <b> 01-01-2017 to 31-12-2021(?).</b> \n",
    "In order to optmize storage space within the virtual machine created to develop hadoop and pyspark tools, a sample dataset was created based on the original, where only the Irish rankings were selected and stored on a new csv file (of 56MB) used in this Notebook, considering the size of original csv file is over 3GB and considering the time resources and technical knowledge limitations are present to develop this project, this was the solution found to carry on. \n",
    "\n",
    "\n",
    "\n",
    "\n",
    "\n"
   ]
  },
  {
   "cell_type": "code",
   "execution_count": 1,
   "id": "efc6ae36",
   "metadata": {
    "scrolled": true
   },
   "outputs": [],
   "source": [
    "# importing necessary libraries to deploy pyspark functions\n",
    "\n",
    "from pyspark.sql.functions import count # Funcion to get the \"size\" of the data.\n",
    "from pyspark.sql.functions import when # When function.\n",
    "from pyspark.sql.functions import col # Function column.\n",
    "from pyspark.sql.functions import mean, min, max, stddev # Imports function for statistical features. \n",
    "from pyspark.sql import functions as F # Data processing framework.\n",
    "from pyspark.sql.functions import lower # lower case function.\n",
    "from pyspark.sql.functions import length # Import lenght function.\n",
    "from pyspark.sql.functions import size, split # Imports function size and split.\n",
    "from pyspark.ml.feature import Tokenizer # Importing Tokenizer.\n",
    "from pyspark.sql.functions import regexp_replace # Remove / Replace function.\n",
    "from pyspark.sql.functions import explode, desc # Importing for word count.\n",
    "from pyspark.ml.feature import StopWordsRemover # Imports stopword remover.\n",
    "from pyspark.sql.types import StructField, StructType # Importing features for Schema.\n",
    "from pyspark.sql.types import IntegerType, StringType, TimestampType # Tools to create the schema.\n",
    "from pyspark.sql.functions import udf # Imports function UDF (user defined functions).\n",
    "from pyspark.sql.types import ArrayType, StringType\n",
    "from pyspark.ml.linalg import VectorUDT\n",
    "from pyspark.ml.feature import Word2Vec\n",
    "from pyspark.sql.functions import max as max_\n",
    "import numpy as np # for numerical operations.\n",
    "\n",
    "import matplotlib.pyplot as plt # visualization\n",
    "%matplotlib inline \n",
    "\n",
    "import warnings # Ignore warnings.\n",
    "warnings.filterwarnings(\"ignore\")"
   ]
  },
  {
   "cell_type": "markdown",
   "id": "b90975ef",
   "metadata": {},
   "source": [
    "## 1. Data Preparation and EDA\n",
    "\n",
    "The original dataset retrieved from Kaggel via the link specified above is over 3GB in size. As a solution to not overuse the limited space in the VM, outside of the vm a separate Jupyter notebook was created to filter the data needed for this project, as a sample containing Ireland data from 2017 to 2021. The original csv file contains a mix of two trends collected: \"Top200 chart\" and \"Viral 50\" across 26,173,514 observations in 9 columns containg attributes such as song title, position in rank, date collectes, artist, region, type of chart present and streams.  Once the sample was completed the new shape for charts_irl is of 449,311 rows, still a significant size across the same 9 columns:\n",
    "\n",
    "- title: title of each song\n",
    "- rank: position in weekly ranking\n",
    "- date: weekly data \n",
    "- artist: name of artist\n",
    "- url: spotify url directing to each song \n",
    "- region: country (Ireland)\n",
    "- chart: top200 chart or viral 50, Spotify's own charts to measure popular songs \n",
    "- trend: evolution of songs position in weekly ranks, if moved up or down, new entry or if remains a neutral position\n",
    "- streams: number of streams \n",
    "\n",
    "\n",
    "Though, an early EDA made possible to see the trend of viral 50 do not posses the total streams count for each song as pointed in the data source. This is why the data cleaning for this project aims to reach a dataframe containing this trend. Also, the url address is not relevant for the experiment, so both features will be dropped to reduce noise. \n",
    "\n"
   ]
  },
  {
   "cell_type": "code",
   "execution_count": 2,
   "id": "cc1e28cf",
   "metadata": {},
   "outputs": [
    {
     "name": "stderr",
     "output_type": "stream",
     "text": [
      "                                                                                \r"
     ]
    }
   ],
   "source": [
    "from pyspark.sql import SparkSession\n",
    "\n",
    "# Initialize SparkSession\n",
    "spark = SparkSession.builder.appName(\"WeeklySongPrediction\").getOrCreate()\n",
    "\n",
    "# Use the correct local file path to your CSV file\n",
    "file_path = 'file://///home/hduser/2020274_CA1_sem2/charts_irl.csv'\n",
    "\n",
    "# Read the CSV file\n",
    "charts_irl = spark.read.csv(file_path, header=True, inferSchema=True)"
   ]
  },
  {
   "cell_type": "code",
   "execution_count": 3,
   "id": "e740f718",
   "metadata": {},
   "outputs": [
    {
     "name": "stdout",
     "output_type": "stream",
     "text": [
      "+--------------------+----+----------+--------------------+--------------------+-------+------+-------------+-------+\n",
      "|               title|rank|      date|              artist|                 url| region| chart|        trend|streams|\n",
      "+--------------------+----+----------+--------------------+--------------------+-------+------+-------------+-------+\n",
      "|Rockabye (feat. S...|   1|2017-01-01|        Clean Bandit|https://open.spot...|Ireland|top200|SAME_POSITION|24914.0|\n",
      "|             Starboy|   2|2017-01-01|The Weeknd, Daft ...|https://open.spot...|Ireland|top200|SAME_POSITION|20407.0|\n",
      "|Say You Won't Let Go|   3|2017-01-01|        James Arthur|https://open.spot...|Ireland|top200|      MOVE_UP|18749.0|\n",
      "|              Sexual|   4|2017-01-01|         NEIKED, Dyo|https://open.spot...|Ireland|top200|    MOVE_DOWN|18662.0|\n",
      "|           All Night|   5|2017-01-01|   The Vamps, Matoma|https://open.spot...|Ireland|top200|    MOVE_DOWN|16781.0|\n",
      "|              Closer|   6|2017-01-01|The Chainsmokers,...|https://open.spot...|Ireland|top200|      MOVE_UP|16423.0|\n",
      "|    Don't Wanna Know|   7|2017-01-01|Maroon 5, Kendric...|https://open.spot...|Ireland|top200|    MOVE_DOWN|16287.0|\n",
      "|Call On Me - Ryan...|   8|2017-01-01|             Starley|https://open.spot...|Ireland|top200|SAME_POSITION|15645.0|\n",
      "|        Just Hold On|   9|2017-01-01|Steve Aoki, Louis...|https://open.spot...|Ireland|top200|      MOVE_UP|15182.0|\n",
      "|           One Dance|  10|2017-01-01| Drake, WizKid, Kyla|https://open.spot...|Ireland|top200|    MOVE_DOWN|14813.0|\n",
      "|        By Your Side|  11|2017-01-01|    Jonas Blue, RAYE|https://open.spot...|Ireland|top200|      MOVE_UP|13794.0|\n",
      "|        I Would Like|  12|2017-01-01|        Zara Larsson|https://open.spot...|Ireland|top200|      MOVE_UP|13626.0|\n",
      "|               Touch|  13|2017-01-01|          Little Mix|https://open.spot...|Ireland|top200|      MOVE_UP|13515.0|\n",
      "|       Black Beatles|  14|2017-01-01|Rae Sremmurd, Guc...|https://open.spot...|Ireland|top200|      MOVE_UP|13391.0|\n",
      "|\"I Don’t Wanna Li...|  15|2017-01-01|  ZAYN, Taylor Swift|https://open.spot...|Ireland|top200|      MOVE_UP|13324.0|\n",
      "|           24K Magic|  16|2017-01-01|          Bruno Mars|https://open.spot...|Ireland|top200|      MOVE_UP|13198.0|\n",
      "|    I Feel It Coming|  17|2017-01-01|The Weeknd, Daft ...|https://open.spot...|Ireland|top200|      MOVE_UP|13179.0|\n",
      "|     Let Me Love You|  18|2017-01-01|DJ Snake, Justin ...|https://open.spot...|Ireland|top200|    MOVE_DOWN|13149.0|\n",
      "|            The Mack|  19|2017-01-01|Nevada, Mark Morr...|https://open.spot...|Ireland|top200|      MOVE_UP|12638.0|\n",
      "|Cold Water (feat....|  20|2017-01-01|         Major Lazer|https://open.spot...|Ireland|top200|    MOVE_DOWN|12442.0|\n",
      "+--------------------+----+----------+--------------------+--------------------+-------+------+-------------+-------+\n",
      "only showing top 20 rows\n",
      "\n"
     ]
    }
   ],
   "source": [
    "#display first 20 rows of ireland charts \n",
    "charts_irl.show()\n"
   ]
  },
  {
   "cell_type": "code",
   "execution_count": 4,
   "id": "0a52518b",
   "metadata": {},
   "outputs": [
    {
     "name": "stdout",
     "output_type": "stream",
     "text": [
      "root\n",
      " |-- title: string (nullable = true)\n",
      " |-- rank: string (nullable = true)\n",
      " |-- date: string (nullable = true)\n",
      " |-- artist: string (nullable = true)\n",
      " |-- url: string (nullable = true)\n",
      " |-- region: string (nullable = true)\n",
      " |-- chart: string (nullable = true)\n",
      " |-- trend: string (nullable = true)\n",
      " |-- streams: string (nullable = true)\n",
      "\n"
     ]
    }
   ],
   "source": [
    "# view the schema for the dataset\n",
    "charts_irl.printSchema()"
   ]
  },
  {
   "cell_type": "markdown",
   "id": "e229ea3d",
   "metadata": {},
   "source": [
    "As default for the file, pyspark read the csv as if all features are formed by strings, including the numeric values, and most of them are in fact strings (song title, artist, region). However, the number of streams and date in specific must be stored as the correct datatype to enable model construction in further steps. they will be converted to integer and date, respectively. "
   ]
  },
  {
   "cell_type": "code",
   "execution_count": 5,
   "id": "f964fba2",
   "metadata": {},
   "outputs": [
    {
     "name": "stderr",
     "output_type": "stream",
     "text": [
      "[Stage 3:==============>                                            (1 + 3) / 4]\r"
     ]
    },
    {
     "name": "stdout",
     "output_type": "stream",
     "text": [
      "+-------+---------------+------------------+------------------+-------------------------------+--------------------+--------------------+-------+-------+------------------+\n",
      "|summary|          title|              rank|              date|                         artist|                 url|              region|  chart|  trend|           streams|\n",
      "+-------+---------------+------------------+------------------+-------------------------------+--------------------+--------------------+-------+-------+------------------+\n",
      "|  count|         449311|            449311|            449311|                         449311|              449311|              449311| 449311| 449311|            358529|\n",
      "|   mean|       Infinity| 85.33181080593786|12.979166666666666|              8796.844444444445|                null|                null|   null|   null|11141.097649383048|\n",
      "| stddev|            NaN|60.072093983485395|14.247791293305383|              39552.98827175075|                null|                null|   null|   null|10168.109008641002|\n",
      "|    min|              !|     Black Thought|  Q-Tip & Denaun)\"|           \"Bobby \"\"Boris\"\" ...|  The Crypt-Kickers\"|              Eminem|Ireland|Ireland|           10000.0|\n",
      "|    25%|           22.0|              32.0|               5.0|                           23.0|                null|                null|   null|   null|            5651.0|\n",
      "|    50%|         1999.0|              75.0|               7.0|                           23.0|                null|                null|   null|   null|            7375.0|\n",
      "|    75%|         2002.0|             138.0|              10.0|                          122.0|                null|                null|   null|   null|           12683.0|\n",
      "|    max|항상 (HANGSANG)|                99|                 9|遠野高志, 加島優, 矢口恭介, ...|https://open.spot...|https://open.spot...|viral50|viral50|            top200|\n",
      "+-------+---------------+------------------+------------------+-------------------------------+--------------------+--------------------+-------+-------+------------------+\n",
      "\n"
     ]
    },
    {
     "name": "stderr",
     "output_type": "stream",
     "text": [
      "\r",
      "                                                                                \r"
     ]
    }
   ],
   "source": [
    "# Display the summary of the data\n",
    "charts_irl.summary().show()"
   ]
  },
  {
   "cell_type": "code",
   "execution_count": 6,
   "id": "196e55d4",
   "metadata": {},
   "outputs": [
    {
     "name": "stderr",
     "output_type": "stream",
     "text": [
      "[Stage 6:=============================>                             (2 + 2) / 4]\r"
     ]
    },
    {
     "name": "stdout",
     "output_type": "stream",
     "text": [
      "+-------+---------------+------------------+------------------+-------------------------------+--------------------+--------------------+-------+-------+------------------+\n",
      "|summary|          title|              rank|              date|                         artist|                 url|              region|  chart|  trend|           streams|\n",
      "+-------+---------------+------------------+------------------+-------------------------------+--------------------+--------------------+-------+-------+------------------+\n",
      "|  count|         449311|            449311|            449311|                         449311|              449311|              449311| 449311| 449311|            358529|\n",
      "|   mean|       Infinity| 85.33181080593786|12.979166666666666|              8796.844444444445|                null|                null|   null|   null|11141.097649383048|\n",
      "| stddev|            NaN|60.072093983485395|14.247791293305383|              39552.98827175075|                null|                null|   null|   null|10168.109008641002|\n",
      "|    min|              !|     Black Thought|  Q-Tip & Denaun)\"|           \"Bobby \"\"Boris\"\" ...|  The Crypt-Kickers\"|              Eminem|Ireland|Ireland|           10000.0|\n",
      "|    max|항상 (HANGSANG)|                99|                 9|遠野高志, 加島優, 矢口恭介, ...|https://open.spot...|https://open.spot...|viral50|viral50|            top200|\n",
      "+-------+---------------+------------------+------------------+-------------------------------+--------------------+--------------------+-------+-------+------------------+\n",
      "\n"
     ]
    },
    {
     "name": "stderr",
     "output_type": "stream",
     "text": [
      "\r",
      "                                                                                \r"
     ]
    }
   ],
   "source": [
    "#finding summary statistics\n",
    "charts_irl.describe().show()"
   ]
  },
  {
   "cell_type": "code",
   "execution_count": 7,
   "id": "7c07fbba",
   "metadata": {},
   "outputs": [
    {
     "name": "stdout",
     "output_type": "stream",
     "text": [
      "Shape: (449311, 9)\n"
     ]
    },
    {
     "name": "stderr",
     "output_type": "stream",
     "text": [
      "\r",
      "[Stage 9:==============>                                            (1 + 3) / 4]\r",
      "\r",
      "                                                                                \r"
     ]
    }
   ],
   "source": [
    "num_rows_charts = charts_irl.count() # Counting the number of rows.\n",
    "num_columns_charts =len(charts_irl.columns) # Length of columns.\n",
    "print(f\"Shape: ({num_rows_charts}, {num_columns_charts})\") # Prints the shape of the dataset."
   ]
  },
  {
   "cell_type": "code",
   "execution_count": null,
   "id": "3c94e86b",
   "metadata": {},
   "outputs": [],
   "source": []
  },
  {
   "cell_type": "code",
   "execution_count": 8,
   "id": "19a3f753",
   "metadata": {},
   "outputs": [
    {
     "name": "stderr",
     "output_type": "stream",
     "text": [
      "\r",
      "[Stage 12:==============>                                           (1 + 3) / 4]\r",
      "\r",
      "[Stage 12:===========================================>              (3 + 1) / 4]\r"
     ]
    },
    {
     "name": "stdout",
     "output_type": "stream",
     "text": [
      "+-----+----+----+------+---+------+-----+-----+-------+\n",
      "|title|rank|date|artist|url|region|chart|trend|streams|\n",
      "+-----+----+----+------+---+------+-----+-----+-------+\n",
      "|    0|   0|   0|     0|  0|     0|    0|    0|  90782|\n",
      "+-----+----+----+------+---+------+-----+-----+-------+\n",
      "\n"
     ]
    },
    {
     "name": "stderr",
     "output_type": "stream",
     "text": [
      "\r",
      "                                                                                \r"
     ]
    }
   ],
   "source": [
    "# checking for missing data\n",
    "\n",
    "#need to import pyspark functions to make specific queries\n",
    "from pyspark.sql.functions import count, when, isnull\n",
    "\n",
    "\n",
    "missing_data = charts_irl.agg(*[count(when(isnull(c), c)).alias(c) for c in charts_irl.columns])\n",
    "missing_data.show()"
   ]
  },
  {
   "cell_type": "code",
   "execution_count": 9,
   "id": "cf617fd0",
   "metadata": {},
   "outputs": [
    {
     "name": "stdout",
     "output_type": "stream",
     "text": [
      "+--------------------+----+----------+--------------------+--------------------+-------+------+-------------+-------+\n",
      "|               title|rank|      date|              artist|                 url| region| chart|        trend|streams|\n",
      "+--------------------+----+----------+--------------------+--------------------+-------+------+-------------+-------+\n",
      "|Rockabye (feat. S...|   1|2017-01-01|        Clean Bandit|https://open.spot...|Ireland|top200|SAME_POSITION|24914.0|\n",
      "|             Starboy|   2|2017-01-01|The Weeknd, Daft ...|https://open.spot...|Ireland|top200|SAME_POSITION|20407.0|\n",
      "|Say You Won't Let Go|   3|2017-01-01|        James Arthur|https://open.spot...|Ireland|top200|      MOVE_UP|18749.0|\n",
      "|              Sexual|   4|2017-01-01|         NEIKED, Dyo|https://open.spot...|Ireland|top200|    MOVE_DOWN|18662.0|\n",
      "|           All Night|   5|2017-01-01|   The Vamps, Matoma|https://open.spot...|Ireland|top200|    MOVE_DOWN|16781.0|\n",
      "|              Closer|   6|2017-01-01|The Chainsmokers,...|https://open.spot...|Ireland|top200|      MOVE_UP|16423.0|\n",
      "|    Don't Wanna Know|   7|2017-01-01|Maroon 5, Kendric...|https://open.spot...|Ireland|top200|    MOVE_DOWN|16287.0|\n",
      "|Call On Me - Ryan...|   8|2017-01-01|             Starley|https://open.spot...|Ireland|top200|SAME_POSITION|15645.0|\n",
      "|        Just Hold On|   9|2017-01-01|Steve Aoki, Louis...|https://open.spot...|Ireland|top200|      MOVE_UP|15182.0|\n",
      "|           One Dance|  10|2017-01-01| Drake, WizKid, Kyla|https://open.spot...|Ireland|top200|    MOVE_DOWN|14813.0|\n",
      "|        By Your Side|  11|2017-01-01|    Jonas Blue, RAYE|https://open.spot...|Ireland|top200|      MOVE_UP|13794.0|\n",
      "|        I Would Like|  12|2017-01-01|        Zara Larsson|https://open.spot...|Ireland|top200|      MOVE_UP|13626.0|\n",
      "|               Touch|  13|2017-01-01|          Little Mix|https://open.spot...|Ireland|top200|      MOVE_UP|13515.0|\n",
      "|       Black Beatles|  14|2017-01-01|Rae Sremmurd, Guc...|https://open.spot...|Ireland|top200|      MOVE_UP|13391.0|\n",
      "|\"I Don’t Wanna Li...|  15|2017-01-01|  ZAYN, Taylor Swift|https://open.spot...|Ireland|top200|      MOVE_UP|13324.0|\n",
      "|           24K Magic|  16|2017-01-01|          Bruno Mars|https://open.spot...|Ireland|top200|      MOVE_UP|13198.0|\n",
      "|    I Feel It Coming|  17|2017-01-01|The Weeknd, Daft ...|https://open.spot...|Ireland|top200|      MOVE_UP|13179.0|\n",
      "|     Let Me Love You|  18|2017-01-01|DJ Snake, Justin ...|https://open.spot...|Ireland|top200|    MOVE_DOWN|13149.0|\n",
      "|            The Mack|  19|2017-01-01|Nevada, Mark Morr...|https://open.spot...|Ireland|top200|      MOVE_UP|12638.0|\n",
      "|Cold Water (feat....|  20|2017-01-01|         Major Lazer|https://open.spot...|Ireland|top200|    MOVE_DOWN|12442.0|\n",
      "+--------------------+----+----------+--------------------+--------------------+-------+------+-------------+-------+\n",
      "only showing top 20 rows\n",
      "\n"
     ]
    }
   ],
   "source": [
    "# Handling missing values\n",
    "charts_irl_cleaned = charts_irl.na.drop()\n",
    "\n",
    "# Show the cleaned DataFrame\n",
    "charts_irl_cleaned.show()"
   ]
  },
  {
   "cell_type": "code",
   "execution_count": 10,
   "id": "353d7ab9",
   "metadata": {},
   "outputs": [],
   "source": [
    "# droppin the url and trend features to reduce the noise in the experimentation. \n",
    "#rename variable for easier manipulation and avoid confusion\n",
    "charts_irl = charts_irl_cleaned.drop('url', 'trend')"
   ]
  },
  {
   "cell_type": "code",
   "execution_count": 11,
   "id": "3f155620",
   "metadata": {},
   "outputs": [
    {
     "name": "stdout",
     "output_type": "stream",
     "text": [
      "+--------------------+----+----------+--------------------+-------+------+-------+\n",
      "|               title|rank|      date|              artist| region| chart|streams|\n",
      "+--------------------+----+----------+--------------------+-------+------+-------+\n",
      "|Rockabye (feat. S...|   1|2017-01-01|        Clean Bandit|Ireland|top200|24914.0|\n",
      "|             Starboy|   2|2017-01-01|The Weeknd, Daft ...|Ireland|top200|20407.0|\n",
      "|Say You Won't Let Go|   3|2017-01-01|        James Arthur|Ireland|top200|18749.0|\n",
      "|              Sexual|   4|2017-01-01|         NEIKED, Dyo|Ireland|top200|18662.0|\n",
      "|           All Night|   5|2017-01-01|   The Vamps, Matoma|Ireland|top200|16781.0|\n",
      "|              Closer|   6|2017-01-01|The Chainsmokers,...|Ireland|top200|16423.0|\n",
      "|    Don't Wanna Know|   7|2017-01-01|Maroon 5, Kendric...|Ireland|top200|16287.0|\n",
      "|Call On Me - Ryan...|   8|2017-01-01|             Starley|Ireland|top200|15645.0|\n",
      "|        Just Hold On|   9|2017-01-01|Steve Aoki, Louis...|Ireland|top200|15182.0|\n",
      "|           One Dance|  10|2017-01-01| Drake, WizKid, Kyla|Ireland|top200|14813.0|\n",
      "|        By Your Side|  11|2017-01-01|    Jonas Blue, RAYE|Ireland|top200|13794.0|\n",
      "|        I Would Like|  12|2017-01-01|        Zara Larsson|Ireland|top200|13626.0|\n",
      "|               Touch|  13|2017-01-01|          Little Mix|Ireland|top200|13515.0|\n",
      "|       Black Beatles|  14|2017-01-01|Rae Sremmurd, Guc...|Ireland|top200|13391.0|\n",
      "|\"I Don’t Wanna Li...|  15|2017-01-01|  ZAYN, Taylor Swift|Ireland|top200|13324.0|\n",
      "|           24K Magic|  16|2017-01-01|          Bruno Mars|Ireland|top200|13198.0|\n",
      "|    I Feel It Coming|  17|2017-01-01|The Weeknd, Daft ...|Ireland|top200|13179.0|\n",
      "|     Let Me Love You|  18|2017-01-01|DJ Snake, Justin ...|Ireland|top200|13149.0|\n",
      "|            The Mack|  19|2017-01-01|Nevada, Mark Morr...|Ireland|top200|12638.0|\n",
      "|Cold Water (feat....|  20|2017-01-01|         Major Lazer|Ireland|top200|12442.0|\n",
      "+--------------------+----+----------+--------------------+-------+------+-------+\n",
      "only showing top 20 rows\n",
      "\n"
     ]
    }
   ],
   "source": [
    "# display new df\n",
    "charts_irl.show()\n"
   ]
  },
  {
   "cell_type": "code",
   "execution_count": 12,
   "id": "7a2af6ef",
   "metadata": {},
   "outputs": [
    {
     "name": "stderr",
     "output_type": "stream",
     "text": [
      "\r",
      "[Stage 17:>                                                         (0 + 4) / 4]\r"
     ]
    },
    {
     "name": "stdout",
     "output_type": "stream",
     "text": [
      "Shape: (358529, 7)\n"
     ]
    },
    {
     "name": "stderr",
     "output_type": "stream",
     "text": [
      "\r",
      "                                                                                \r"
     ]
    }
   ],
   "source": [
    "# verifying the new shape of df\n",
    "\n",
    "num_rows_charts = charts_irl.count() # Counting the number of rows.\n",
    "num_columns_charts =len(charts_irl.columns) # Length of columns.\n",
    "print(f\"Shape: ({num_rows_charts}, {num_columns_charts})\") # Prints the shape of the dataset."
   ]
  },
  {
   "cell_type": "code",
   "execution_count": 13,
   "id": "8088c047",
   "metadata": {},
   "outputs": [
    {
     "name": "stderr",
     "output_type": "stream",
     "text": [
      "[Stage 20:==============>                                           (1 + 3) / 4]\r"
     ]
    },
    {
     "name": "stdout",
     "output_type": "stream",
     "text": [
      "+-------------------+--------------------+----+----------+--------------------+-------+-------------+\n",
      "|              title|                rank|date|    artist|              region|  chart|      streams|\n",
      "+-------------------+--------------------+----+----------+--------------------+-------+-------------+\n",
      "|\"30/90 (from \"\"tick| tick... BOOM!\"\" ...|   9|2021-11-25|https://open.spot...|Ireland|      MOVE_UP|\n",
      "|\"30/90 (from \"\"tick| tick... BOOM!\"\" ...|   9|2021-11-26|https://open.spot...|Ireland|SAME_POSITION|\n",
      "|\"30/90 (from \"\"tick| tick... BOOM!\"\" ...|   9|2021-12-09|https://open.spot...|Ireland|      MOVE_UP|\n",
      "|\"30/90 (from \"\"tick| tick... BOOM!\"\" ...|   9|2021-12-14|https://open.spot...|Ireland|    MOVE_DOWN|\n",
      "|\"30/90 (from \"\"tick| tick... BOOM!\"\" ...|   8|2021-12-07|https://open.spot...|Ireland|    MOVE_DOWN|\n",
      "|\"30/90 (from \"\"tick| tick... BOOM!\"\" ...|   8|2021-12-11|https://open.spot...|Ireland|    MOVE_DOWN|\n",
      "|\"30/90 (from \"\"tick| tick... BOOM!\"\" ...|   7|2021-11-28|https://open.spot...|Ireland|SAME_POSITION|\n",
      "|\"30/90 (from \"\"tick| tick... BOOM!\"\" ...|   7|2021-12-03|https://open.spot...|Ireland|    MOVE_DOWN|\n",
      "|\"30/90 (from \"\"tick| tick... BOOM!\"\" ...|   7|2021-12-05|https://open.spot...|Ireland|    MOVE_DOWN|\n",
      "|\"30/90 (from \"\"tick| tick... BOOM!\"\" ...|   7|2021-12-20|https://open.spot...|Ireland|      MOVE_UP|\n",
      "|\"30/90 (from \"\"tick| tick... BOOM!\"\" ...|   7|2021-11-27|https://open.spot...|Ireland|      MOVE_UP|\n",
      "|\"30/90 (from \"\"tick| tick... BOOM!\"\" ...|   7|2021-12-13|https://open.spot...|Ireland|      MOVE_UP|\n",
      "|\"30/90 (from \"\"tick| tick... BOOM!\"\" ...|   7|2021-12-15|https://open.spot...|Ireland|      MOVE_UP|\n",
      "|\"30/90 (from \"\"tick| tick... BOOM!\"\" ...|   6|2021-12-06|https://open.spot...|Ireland|      MOVE_UP|\n",
      "|\"30/90 (from \"\"tick| tick... BOOM!\"\" ...|   6|2021-12-04|https://open.spot...|Ireland|      MOVE_UP|\n",
      "|\"30/90 (from \"\"tick| tick... BOOM!\"\" ...|   6|2021-12-10|https://open.spot...|Ireland|      MOVE_UP|\n",
      "|\"30/90 (from \"\"tick| tick... BOOM!\"\" ...|   6|2021-12-21|https://open.spot...|Ireland|      MOVE_UP|\n",
      "|\"30/90 (from \"\"tick| tick... BOOM!\"\" ...|   5|2021-12-02|https://open.spot...|Ireland|    MOVE_DOWN|\n",
      "|\"30/90 (from \"\"tick| tick... BOOM!\"\" ...|   5|2021-11-29|https://open.spot...|Ireland|      MOVE_UP|\n",
      "|\"30/90 (from \"\"tick| tick... BOOM!\"\" ...|   5|2021-11-30|https://open.spot...|Ireland|SAME_POSITION|\n",
      "+-------------------+--------------------+----+----------+--------------------+-------+-------------+\n",
      "only showing top 20 rows\n",
      "\n"
     ]
    },
    {
     "name": "stderr",
     "output_type": "stream",
     "text": [
      "\r",
      "[Stage 20:=============================>                            (2 + 2) / 4]\r",
      "\r",
      "                                                                                \r"
     ]
    }
   ],
   "source": [
    "# sorting the dataset by date to see until when there is data\n",
    "\n",
    "from pyspark.sql import functions as F\n",
    "\n",
    "# Sort the DataFrame by the 'date' column in descending order\n",
    "df_sorted = charts_irl.orderBy(F.desc('date'))\n",
    "\n",
    "# Show the first few rows to see the 'tail' of the DataFrame\n",
    "df_sorted.show()\n"
   ]
  },
  {
   "cell_type": "markdown",
   "id": "859e2758",
   "metadata": {},
   "source": [
    "By filtering the last dates collected, an misallocation of values appears. Where the values overlap the categories, this seems to have been caused by a mistake while loading the dataset, the right delimitations need to be alocated. seems that the columns are recorded in different format,when the  for that I only selecting data correctly for longer titles with many special characters. so another technique is to filter only rows recorded correctly in the 'charts' column. However, dropping too many observations may cause risks for the model evaluation, generating underfitting data for test and training. \n",
    "\n"
   ]
  },
  {
   "cell_type": "code",
   "execution_count": 14,
   "id": "84316ea8",
   "metadata": {},
   "outputs": [
    {
     "name": "stdout",
     "output_type": "stream",
     "text": [
      "+--------------------+----+----------+--------------------+-------+------+-------+\n",
      "|               title|rank|      date|              artist| region| chart|streams|\n",
      "+--------------------+----+----------+--------------------+-------+------+-------+\n",
      "|Rockabye (feat. S...|   1|2017-01-01|        Clean Bandit|Ireland|top200|24914.0|\n",
      "|             Starboy|   2|2017-01-01|The Weeknd, Daft ...|Ireland|top200|20407.0|\n",
      "|Say You Won't Let Go|   3|2017-01-01|        James Arthur|Ireland|top200|18749.0|\n",
      "|              Sexual|   4|2017-01-01|         NEIKED, Dyo|Ireland|top200|18662.0|\n",
      "|           All Night|   5|2017-01-01|   The Vamps, Matoma|Ireland|top200|16781.0|\n",
      "|              Closer|   6|2017-01-01|The Chainsmokers,...|Ireland|top200|16423.0|\n",
      "|    Don't Wanna Know|   7|2017-01-01|Maroon 5, Kendric...|Ireland|top200|16287.0|\n",
      "|Call On Me - Ryan...|   8|2017-01-01|             Starley|Ireland|top200|15645.0|\n",
      "|        Just Hold On|   9|2017-01-01|Steve Aoki, Louis...|Ireland|top200|15182.0|\n",
      "|           One Dance|  10|2017-01-01| Drake, WizKid, Kyla|Ireland|top200|14813.0|\n",
      "|        By Your Side|  11|2017-01-01|    Jonas Blue, RAYE|Ireland|top200|13794.0|\n",
      "|        I Would Like|  12|2017-01-01|        Zara Larsson|Ireland|top200|13626.0|\n",
      "|               Touch|  13|2017-01-01|          Little Mix|Ireland|top200|13515.0|\n",
      "|       Black Beatles|  14|2017-01-01|Rae Sremmurd, Guc...|Ireland|top200|13391.0|\n",
      "|\"I Don’t Wanna Li...|  15|2017-01-01|  ZAYN, Taylor Swift|Ireland|top200|13324.0|\n",
      "|           24K Magic|  16|2017-01-01|          Bruno Mars|Ireland|top200|13198.0|\n",
      "|    I Feel It Coming|  17|2017-01-01|The Weeknd, Daft ...|Ireland|top200|13179.0|\n",
      "|     Let Me Love You|  18|2017-01-01|DJ Snake, Justin ...|Ireland|top200|13149.0|\n",
      "|            The Mack|  19|2017-01-01|Nevada, Mark Morr...|Ireland|top200|12638.0|\n",
      "|Cold Water (feat....|  20|2017-01-01|         Major Lazer|Ireland|top200|12442.0|\n",
      "+--------------------+----+----------+--------------------+-------+------+-------+\n",
      "only showing top 20 rows\n",
      "\n"
     ]
    }
   ],
   "source": [
    "# filter only data from charts = top200 and droping values alocated in wrong columsn\n",
    "\n",
    "# Filter data for Ireland and select top 200 in the 'chart' feature\n",
    "country_name = \"Ireland\"\n",
    "charts_irl_top200 = charts_irl.filter((charts_irl.region == country_name) & (charts_irl.chart == \"top200\"))\n",
    "charts_irl_top200.show()"
   ]
  },
  {
   "cell_type": "code",
   "execution_count": 15,
   "id": "881bd189",
   "metadata": {},
   "outputs": [
    {
     "name": "stdout",
     "output_type": "stream",
     "text": [
      "Shape: (358374, 7)\n"
     ]
    },
    {
     "name": "stderr",
     "output_type": "stream",
     "text": [
      "\r",
      "[Stage 22:=============================>                            (2 + 2) / 4]\r",
      "\r",
      "                                                                                \r"
     ]
    }
   ],
   "source": [
    "# check again the shape to see how much has been lost \n",
    "\n",
    "\n",
    "num_rows_charts = charts_irl_top200.count() # Counting the number of rows.\n",
    "num_columns_charts =len(charts_irl_top200.columns) # Length of columns.\n",
    "print(f\"Shape: ({num_rows_charts}, {num_columns_charts})\") # Prints the shape of the dataset."
   ]
  },
  {
   "cell_type": "code",
   "execution_count": 16,
   "id": "fde34a5f",
   "metadata": {},
   "outputs": [
    {
     "name": "stdout",
     "output_type": "stream",
     "text": [
      "root\n",
      " |-- title: string (nullable = true)\n",
      " |-- rank: string (nullable = true)\n",
      " |-- date: string (nullable = true)\n",
      " |-- artist: string (nullable = true)\n",
      " |-- region: string (nullable = true)\n",
      " |-- chart: string (nullable = true)\n",
      " |-- streams: string (nullable = true)\n",
      "\n"
     ]
    }
   ],
   "source": [
    "# check new schema\n",
    "# view the schema for the dataset\n",
    "charts_irl_top200.printSchema()"
   ]
  },
  {
   "cell_type": "code",
   "execution_count": 17,
   "id": "7ecb68bb",
   "metadata": {},
   "outputs": [],
   "source": [
    "# convert dataypes to numeric\n",
    "\n",
    "from pyspark.sql.functions import col\n",
    "\n",
    "# Convert 'date', 'streams' and 'rank' columns to numeric types\n",
    "charts_irl_top200 = charts_irl_top200.withColumn(\"date\", charts_irl_top200[\"date\"].cast(\"date\"))\n",
    "charts_irl_top200 = charts_irl_top200.withColumn(\"streams\", charts_irl_top200[\"streams\"].cast(\"integer\"))\n",
    "charts_irl_top200 = charts_irl_top200.withColumn(\"rank\", charts_irl_top200[\"rank\"].cast(\"integer\"))"
   ]
  },
  {
   "cell_type": "code",
   "execution_count": null,
   "id": "497a8bd8",
   "metadata": {},
   "outputs": [],
   "source": []
  },
  {
   "cell_type": "code",
   "execution_count": 22,
   "id": "c6699a60",
   "metadata": {},
   "outputs": [
    {
     "name": "stdout",
     "output_type": "stream",
     "text": [
      "root\n",
      " |-- title: string (nullable = true)\n",
      " |-- rank: integer (nullable = true)\n",
      " |-- date: date (nullable = true)\n",
      " |-- artist: string (nullable = true)\n",
      " |-- region: string (nullable = true)\n",
      " |-- chart: string (nullable = true)\n",
      " |-- streams: integer (nullable = true)\n",
      "\n"
     ]
    }
   ],
   "source": [
    "# check new schema after conversion, success!\n",
    "# view the schema for the dataset\n",
    "charts_irl_top200.printSchema()"
   ]
  },
  {
   "cell_type": "code",
   "execution_count": 27,
   "id": "8354a4ee",
   "metadata": {},
   "outputs": [
    {
     "name": "stderr",
     "output_type": "stream",
     "text": [
      "\r",
      "[Stage 53:==============>                                           (1 + 3) / 4]\r",
      "\r",
      "                                                                                \r"
     ]
    },
    {
     "name": "stdout",
     "output_type": "stream",
     "text": [
      "+----------+-----+\n",
      "|      date|count|\n",
      "+----------+-----+\n",
      "|2017-01-01|  200|\n",
      "|2017-01-02|  200|\n",
      "|2017-01-03|  200|\n",
      "|2017-01-04|  200|\n",
      "|2017-01-05|  200|\n",
      "|2017-01-06|  200|\n",
      "|2017-01-07|  200|\n",
      "|2017-01-08|  200|\n",
      "|2017-01-09|  200|\n",
      "|2017-01-10|  200|\n",
      "|2017-01-11|  200|\n",
      "|2017-01-12|  200|\n",
      "|2017-01-13|  200|\n",
      "|2017-01-14|  200|\n",
      "|2017-01-15|  200|\n",
      "|2017-01-16|  200|\n",
      "|2017-01-17|  200|\n",
      "|2017-01-18|  200|\n",
      "|2017-01-19|  200|\n",
      "|2017-01-20|  200|\n",
      "+----------+-----+\n",
      "only showing top 20 rows\n",
      "\n",
      "Frequency of dates\n",
      "+--------------------+-----+\n",
      "|               title|count|\n",
      "+--------------------+-----+\n",
      "|      Mr. Brightside| 1785|\n",
      "|Say You Won't Let Go| 1713|\n",
      "|             Happier| 1427|\n",
      "|              Africa| 1349|\n",
      "|Everywhere - 2017...| 1341|\n",
      "|             Riptide| 1292|\n",
      "|Wonderwall - Rema...| 1246|\n",
      "|             Shotgun| 1200|\n",
      "|        Shape of You| 1158|\n",
      "|             Shallow| 1158|\n",
      "|       Power Over Me| 1141|\n",
      "|        Lucid Dreams| 1122|\n",
      "|Don't Stop Believin'| 1119|\n",
      "|   Someone You Loved| 1110|\n",
      "|             Bruises| 1110|\n",
      "|                2002| 1093|\n",
      "|Sunflower - Spide...| 1063|\n",
      "|   Dancing On My Own| 1033|\n",
      "|Dreams - 2004 Rem...|  995|\n",
      "|          Be Alright|  991|\n",
      "+--------------------+-----+\n",
      "only showing top 20 rows\n",
      "\n",
      "Frequency of Song Titles - Most popular songs\n"
     ]
    }
   ],
   "source": [
    "# ger the frequency in specific features\n",
    "# using count function from pyspark to print them from the highest to the lowest\n",
    "charts_irl_top200.groupBy(\"date\").count().orderBy(\"date\").show()\n",
    "print(f\"Frequency of dates\")\n",
    "# to verify all ranks containg 200 records for each day\n",
    "\n",
    "charts_irl_top200.groupBy(\"title\").count().orderBy(\"count\", ascending=False).show(20)\n",
    "print(f\"Frequency of Song Titles - Most popular songs\")"
   ]
  },
  {
   "cell_type": "code",
   "execution_count": 33,
   "id": "cfaa0093",
   "metadata": {},
   "outputs": [
    {
     "name": "stdout",
     "output_type": "stream",
     "text": [
      "+--------------------+-----+\n",
      "|               title|count|\n",
      "+--------------------+-----+\n",
      "|      Mr. Brightside| 1785|\n",
      "|Say You Won't Let Go| 1713|\n",
      "|             Happier| 1427|\n",
      "|              Africa| 1349|\n",
      "|Everywhere - 2017...| 1341|\n",
      "|             Riptide| 1292|\n",
      "|Wonderwall - Rema...| 1246|\n",
      "|             Shotgun| 1200|\n",
      "|        Shape of You| 1158|\n",
      "|             Shallow| 1158|\n",
      "|       Power Over Me| 1141|\n",
      "|        Lucid Dreams| 1122|\n",
      "|Don't Stop Believin'| 1119|\n",
      "|   Someone You Loved| 1110|\n",
      "|             Bruises| 1110|\n",
      "|                2002| 1093|\n",
      "|Sunflower - Spide...| 1063|\n",
      "|   Dancing On My Own| 1033|\n",
      "|Dreams - 2004 Rem...|  995|\n",
      "|          Be Alright|  991|\n",
      "+--------------------+-----+\n",
      "only showing top 20 rows\n",
      "\n"
     ]
    },
    {
     "name": "stderr",
     "output_type": "stream",
     "text": [
      "\r",
      "[Stage 74:=============================>                            (2 + 2) / 4]\r",
      "\r",
      "                                                                                \r"
     ]
    }
   ],
   "source": [
    "# Group by the song title and count occurrences\n",
    "category_counts = charts_irl_top200.groupBy('title').count()\n",
    "\n",
    "# Order by count in descending order to get the most popular songs\n",
    "popular_songs = category_counts.orderBy('count', ascending=False)\n",
    "\n",
    "# Show the result\n",
    "popular_songs.show()"
   ]
  },
  {
   "cell_type": "markdown",
   "id": "ae3dfe36",
   "metadata": {},
   "source": [
    "this ranking is based on the frequency of appearance in the dataset.\n",
    "now, lets plot some visualizations to see how the most popular songs behave\n"
   ]
  },
  {
   "cell_type": "code",
   "execution_count": 38,
   "id": "089a4593",
   "metadata": {},
   "outputs": [],
   "source": [
    "import re # for extracting special characters\n",
    "\n",
    "# Replace special characters with underscores in song titles\n",
    "cleaned_titles = [re.sub(r'[^\\w\\s]', '_', title) for title in titles]"
   ]
  },
  {
   "cell_type": "code",
   "execution_count": 41,
   "id": "690c256a",
   "metadata": {
    "scrolled": false
   },
   "outputs": [
    {
     "data": {
      "image/png": "[encoded data removed]",
      "text/plain": [
       "<Figure size 1200x600 with 1 Axes>"
      ]
     },
     "metadata": {},
     "output_type": "display_data"
    }
   ],
   "source": [
    "import matplotlib.pyplot as plt\n",
    "\n",
    "\n",
    "\n",
    "# Select the top 20 songs and their counts\n",
    "top_20_titles = cleaned_titles[:20]\n",
    "top_20_counts = counts[:20]\n",
    "\n",
    "# Create a bar chart\n",
    "plt.figure(figsize=(12, 6))\n",
    "plt.bar(top_20_titles, top_20_counts)\n",
    "plt.xlabel('Song Titles')\n",
    "plt.ylabel('Count')\n",
    "plt.title('Top 20 Most Popular Songs')\n",
    "plt.xticks(rotation=90)\n",
    "plt.tight_layout()\n",
    "\n",
    "# Show the plot\n",
    "plt.show()\n",
    "\n",
    "\n",
    "\n",
    "\n",
    "\n"
   ]
  },
  {
   "cell_type": "markdown",
   "id": "e04d1cf2",
   "metadata": {},
   "source": [
    "#### Time Period Distribuition visualization\n"
   ]
  },
  {
   "cell_type": "code",
   "execution_count": 42,
   "id": "d42e1773",
   "metadata": {},
   "outputs": [
    {
     "ename": "NameError",
     "evalue": "name 'year' is not defined",
     "output_type": "error",
     "traceback": [
      "\u001b[0;31m---------------------------------------------------------------------------\u001b[0m",
      "\u001b[0;31mNameError\u001b[0m                                 Traceback (most recent call last)",
      "Cell \u001b[0;32mIn [42], line 2\u001b[0m\n\u001b[1;32m      1\u001b[0m \u001b[38;5;66;03m# Extract year and month from 'date'\u001b[39;00m\n\u001b[0;32m----> 2\u001b[0m df \u001b[38;5;241m=\u001b[39m charts_irl_top200\u001b[38;5;241m.\u001b[39mwithColumn(\u001b[38;5;124m'\u001b[39m\u001b[38;5;124myear\u001b[39m\u001b[38;5;124m'\u001b[39m, \u001b[43myear\u001b[49m(\u001b[38;5;124m'\u001b[39m\u001b[38;5;124mdate\u001b[39m\u001b[38;5;124m'\u001b[39m))\n\u001b[1;32m      3\u001b[0m df \u001b[38;5;241m=\u001b[39m charts_irl_top200\u001b[38;5;241m.\u001b[39mwithColumn(\u001b[38;5;124m'\u001b[39m\u001b[38;5;124mmonth\u001b[39m\u001b[38;5;124m'\u001b[39m, month(\u001b[38;5;124m'\u001b[39m\u001b[38;5;124mdate\u001b[39m\u001b[38;5;124m'\u001b[39m))\n\u001b[1;32m      5\u001b[0m \u001b[38;5;66;03m# Count the number of songs per year\u001b[39;00m\n",
      "\u001b[0;31mNameError\u001b[0m: name 'year' is not defined"
     ]
    }
   ],
   "source": [
    "# Extract year and month from 'date'\n",
    "df = charts_irl_top200.withColumn('year', year('date'))\n",
    "df = charts_irl_top200.withColumn('month', month('date'))\n",
    "\n",
    "# Count the number of songs per year\n",
    "songs_per_year = df.groupBy('year').count().orderBy('year').toPandas()\n",
    "\n",
    "# Plot the number of songs per year\n",
    "plt.figure(figsize=(10, 5))\n",
    "plt.bar(songs_per_year['year'], songs_per_year['count'], color='skyblue')\n",
    "plt.xlabel('Year')\n",
    "plt.ylabel('Number of Songs')\n",
    "plt.title('Number of Songs per Year')\n",
    "plt.show()"
   ]
  },
  {
   "cell_type": "code",
   "execution_count": 20,
   "id": "0b3b9ee0",
   "metadata": {},
   "outputs": [
    {
     "name": "stdout",
     "output_type": "stream",
     "text": [
      "\u001b[1;31merror\u001b[0m: \u001b[1mexternally-managed-environment\u001b[0m\r\n",
      "\r\n",
      "\u001b[31m×\u001b[0m This environment is externally managed\r\n",
      "\u001b[31m╰─>\u001b[0m To install Python packages system-wide, try apt install\r\n",
      "\u001b[31m   \u001b[0m python3-xyz, where xyz is the package you are trying to\r\n",
      "\u001b[31m   \u001b[0m install.\r\n",
      "\u001b[31m   \u001b[0m \r\n",
      "\u001b[31m   \u001b[0m If you wish to install a non-Debian-packaged Python package,\r\n",
      "\u001b[31m   \u001b[0m create a virtual environment using python3 -m venv path/to/venv.\r\n",
      "\u001b[31m   \u001b[0m Then use path/to/venv/bin/python and path/to/venv/bin/pip. Make\r\n",
      "\u001b[31m   \u001b[0m sure you have python3-full installed.\r\n",
      "\u001b[31m   \u001b[0m \r\n",
      "\u001b[31m   \u001b[0m If you wish to install a non-Debian packaged Python application,\r\n",
      "\u001b[31m   \u001b[0m it may be easiest to use pipx install xyz, which will manage a\r\n",
      "\u001b[31m   \u001b[0m virtual environment for you. Make sure you have pipx installed.\r\n",
      "\u001b[31m   \u001b[0m \r\n",
      "\u001b[31m   \u001b[0m See /usr/share/doc/python3.11/README.venv for more information.\r\n",
      "\r\n",
      "\u001b[1;35mnote\u001b[0m: If you believe this is a mistake, please contact your Python installation or OS distribution provider. You can override this, at the risk of breaking your Python installation or OS, by passing --break-system-packages.\r\n",
      "\u001b[1;36mhint\u001b[0m: See PEP 668 for the detailed specification.\r\n"
     ]
    }
   ],
   "source": [
    "!pip install --upgrade pandas\n"
   ]
  },
  {
   "cell_type": "code",
   "execution_count": 46,
   "id": "38a85559",
   "metadata": {},
   "outputs": [
    {
     "ename": "ModuleNotFoundError",
     "evalue": "No module named 'pandas'",
     "output_type": "error",
     "traceback": [
      "\u001b[0;31m---------------------------------------------------------------------------\u001b[0m",
      "\u001b[0;31mModuleNotFoundError\u001b[0m                       Traceback (most recent call last)",
      "Cell \u001b[0;32mIn [46], line 1\u001b[0m\n\u001b[0;32m----> 1\u001b[0m \u001b[38;5;28;01mimport\u001b[39;00m \u001b[38;5;21;01mpandas\u001b[39;00m \u001b[38;5;28;01mas\u001b[39;00m \u001b[38;5;21;01mpd\u001b[39;00m\n",
      "\u001b[0;31mModuleNotFoundError\u001b[0m: No module named 'pandas'"
     ]
    }
   ],
   "source": [
    "import pandas as pd"
   ]
  },
  {
   "cell_type": "code",
   "execution_count": 45,
   "id": "48615b90",
   "metadata": {},
   "outputs": [
    {
     "ename": "ImportError",
     "evalue": "Pandas >= 0.23.2 must be installed; however, it was not found.",
     "output_type": "error",
     "traceback": [
      "\u001b[0;31m---------------------------------------------------------------------------\u001b[0m",
      "\u001b[0;31mModuleNotFoundError\u001b[0m                       Traceback (most recent call last)",
      "File \u001b[0;32m/usr/local/spark/python/pyspark/sql/pandas/utils.py:27\u001b[0m, in \u001b[0;36mrequire_minimum_pandas_version\u001b[0;34m()\u001b[0m\n\u001b[1;32m     26\u001b[0m \u001b[38;5;28;01mtry\u001b[39;00m:\n\u001b[0;32m---> 27\u001b[0m     \u001b[38;5;28;01mimport\u001b[39;00m \u001b[38;5;21;01mpandas\u001b[39;00m\n\u001b[1;32m     28\u001b[0m     have_pandas \u001b[38;5;241m=\u001b[39m \u001b[38;5;28;01mTrue\u001b[39;00m\n",
      "\u001b[0;31mModuleNotFoundError\u001b[0m: No module named 'pandas'",
      "\nThe above exception was the direct cause of the following exception:\n",
      "\u001b[0;31mImportError\u001b[0m                               Traceback (most recent call last)",
      "Cell \u001b[0;32mIn [45], line 5\u001b[0m\n\u001b[1;32m      2\u001b[0m \u001b[38;5;28;01mfrom\u001b[39;00m \u001b[38;5;21;01mpyspark\u001b[39;00m\u001b[38;5;21;01m.\u001b[39;00m\u001b[38;5;21;01msql\u001b[39;00m\u001b[38;5;21;01m.\u001b[39;00m\u001b[38;5;21;01mfunctions\u001b[39;00m \u001b[38;5;28;01mimport\u001b[39;00m year, month\n\u001b[1;32m      4\u001b[0m \u001b[38;5;66;03m# Plot rank trends over time\u001b[39;00m\n\u001b[0;32m----> 5\u001b[0m rank_trends \u001b[38;5;241m=\u001b[39m \u001b[43mcharts_irl_top200\u001b[49m\u001b[38;5;241;43m.\u001b[39;49m\u001b[43mgroupBy\u001b[49m\u001b[43m(\u001b[49m\u001b[38;5;124;43m'\u001b[39;49m\u001b[38;5;124;43mdate\u001b[39;49m\u001b[38;5;124;43m'\u001b[39;49m\u001b[43m)\u001b[49m\u001b[38;5;241;43m.\u001b[39;49m\u001b[43mavg\u001b[49m\u001b[43m(\u001b[49m\u001b[38;5;124;43m'\u001b[39;49m\u001b[38;5;124;43mrank\u001b[39;49m\u001b[38;5;124;43m'\u001b[39;49m\u001b[43m)\u001b[49m\u001b[38;5;241;43m.\u001b[39;49m\u001b[43morderBy\u001b[49m\u001b[43m(\u001b[49m\u001b[38;5;124;43m'\u001b[39;49m\u001b[38;5;124;43mdate\u001b[39;49m\u001b[38;5;124;43m'\u001b[39;49m\u001b[43m)\u001b[49m\u001b[38;5;241;43m.\u001b[39;49m\u001b[43mtoPandas\u001b[49m\u001b[43m(\u001b[49m\u001b[43m)\u001b[49m\n\u001b[1;32m      6\u001b[0m plt\u001b[38;5;241m.\u001b[39mfigure(figsize\u001b[38;5;241m=\u001b[39m(\u001b[38;5;241m10\u001b[39m, \u001b[38;5;241m5\u001b[39m))\n\u001b[1;32m      7\u001b[0m plt\u001b[38;5;241m.\u001b[39mplot(rank_trends[\u001b[38;5;124m'\u001b[39m\u001b[38;5;124mdate\u001b[39m\u001b[38;5;124m'\u001b[39m], rank_trends[\u001b[38;5;124m'\u001b[39m\u001b[38;5;124mavg(rank)\u001b[39m\u001b[38;5;124m'\u001b[39m], color\u001b[38;5;241m=\u001b[39m\u001b[38;5;124m'\u001b[39m\u001b[38;5;124mblue\u001b[39m\u001b[38;5;124m'\u001b[39m)\n",
      "File \u001b[0;32m/usr/local/spark/python/pyspark/sql/pandas/conversion.py:62\u001b[0m, in \u001b[0;36mPandasConversionMixin.toPandas\u001b[0;34m(self)\u001b[0m\n\u001b[1;32m     59\u001b[0m \u001b[38;5;28;01massert\u001b[39;00m \u001b[38;5;28misinstance\u001b[39m(\u001b[38;5;28mself\u001b[39m, DataFrame)\n\u001b[1;32m     61\u001b[0m \u001b[38;5;28;01mfrom\u001b[39;00m \u001b[38;5;21;01mpyspark\u001b[39;00m\u001b[38;5;21;01m.\u001b[39;00m\u001b[38;5;21;01msql\u001b[39;00m\u001b[38;5;21;01m.\u001b[39;00m\u001b[38;5;21;01mpandas\u001b[39;00m\u001b[38;5;21;01m.\u001b[39;00m\u001b[38;5;21;01mutils\u001b[39;00m \u001b[38;5;28;01mimport\u001b[39;00m require_minimum_pandas_version\n\u001b[0;32m---> 62\u001b[0m \u001b[43mrequire_minimum_pandas_version\u001b[49m\u001b[43m(\u001b[49m\u001b[43m)\u001b[49m\n\u001b[1;32m     64\u001b[0m \u001b[38;5;28;01mimport\u001b[39;00m \u001b[38;5;21;01mnumpy\u001b[39;00m \u001b[38;5;28;01mas\u001b[39;00m \u001b[38;5;21;01mnp\u001b[39;00m\n\u001b[1;32m     65\u001b[0m \u001b[38;5;28;01mimport\u001b[39;00m \u001b[38;5;21;01mpandas\u001b[39;00m \u001b[38;5;28;01mas\u001b[39;00m \u001b[38;5;21;01mpd\u001b[39;00m\n",
      "File \u001b[0;32m/usr/local/spark/python/pyspark/sql/pandas/utils.py:33\u001b[0m, in \u001b[0;36mrequire_minimum_pandas_version\u001b[0;34m()\u001b[0m\n\u001b[1;32m     31\u001b[0m     raised_error \u001b[38;5;241m=\u001b[39m error\n\u001b[1;32m     32\u001b[0m \u001b[38;5;28;01mif\u001b[39;00m \u001b[38;5;129;01mnot\u001b[39;00m have_pandas:\n\u001b[0;32m---> 33\u001b[0m     \u001b[38;5;28;01mraise\u001b[39;00m \u001b[38;5;167;01mImportError\u001b[39;00m(\u001b[38;5;124m\"\u001b[39m\u001b[38;5;124mPandas >= \u001b[39m\u001b[38;5;132;01m%s\u001b[39;00m\u001b[38;5;124m must be installed; however, \u001b[39m\u001b[38;5;124m\"\u001b[39m\n\u001b[1;32m     34\u001b[0m                       \u001b[38;5;124m\"\u001b[39m\u001b[38;5;124mit was not found.\u001b[39m\u001b[38;5;124m\"\u001b[39m \u001b[38;5;241m%\u001b[39m minimum_pandas_version) \u001b[38;5;28;01mfrom\u001b[39;00m \u001b[38;5;21;01mraised_error\u001b[39;00m\n\u001b[1;32m     35\u001b[0m \u001b[38;5;28;01mif\u001b[39;00m LooseVersion(pandas\u001b[38;5;241m.\u001b[39m__version__) \u001b[38;5;241m<\u001b[39m LooseVersion(minimum_pandas_version):\n\u001b[1;32m     36\u001b[0m     \u001b[38;5;28;01mraise\u001b[39;00m \u001b[38;5;167;01mImportError\u001b[39;00m(\u001b[38;5;124m\"\u001b[39m\u001b[38;5;124mPandas >= \u001b[39m\u001b[38;5;132;01m%s\u001b[39;00m\u001b[38;5;124m must be installed; however, \u001b[39m\u001b[38;5;124m\"\u001b[39m\n\u001b[1;32m     37\u001b[0m                       \u001b[38;5;124m\"\u001b[39m\u001b[38;5;124myour version was \u001b[39m\u001b[38;5;132;01m%s\u001b[39;00m\u001b[38;5;124m.\u001b[39m\u001b[38;5;124m\"\u001b[39m \u001b[38;5;241m%\u001b[39m (minimum_pandas_version, pandas\u001b[38;5;241m.\u001b[39m__version__))\n",
      "\u001b[0;31mImportError\u001b[0m: Pandas >= 0.23.2 must be installed; however, it was not found."
     ]
    }
   ],
   "source": [
    "# Import necessary functions\n",
    "from pyspark.sql.functions import year, month\n",
    "\n",
    "# Plot rank trends over time\n",
    "rank_trends = charts_irl_top200.groupBy('date').avg('rank').orderBy('date').toPandas()\n",
    "plt.figure(figsize=(10, 5))\n",
    "plt.plot(rank_trends['date'], rank_trends['avg(rank)'], color='blue')\n",
    "plt.xlabel('Date')\n",
    "plt.ylabel('Average Rank')\n",
    "plt.title('Rank Trends over Time')\n",
    "plt.xticks(rotation=45)\n",
    "plt.show()\n"
   ]
  },
  {
   "cell_type": "code",
   "execution_count": 39,
   "id": "0abc5b94",
   "metadata": {
    "scrolled": true
   },
   "outputs": [
    {
     "name": "stdout",
     "output_type": "stream",
     "text": [
      "+--------------------+\n",
      "|               title|\n",
      "+--------------------+\n",
      "|We Don't Talk Any...|\n",
      "|        Sunset Lover|\n",
      "|          Don't Mind|\n",
      "|When You Love Som...|\n",
      "|              Heaven|\n",
      "|           On My Way|\n",
      "|          THE SCOTTS|\n",
      "|                July|\n",
      "|Cheerleader - Fel...|\n",
      "|            Hurt You|\n",
      "|All The Things Sh...|\n",
      "|    Lost in the Fire|\n",
      "|One Minute (feat....|\n",
      "|Thotiana (feat. C...|\n",
      "|                Maze|\n",
      "|        Hold My Hand|\n",
      "|Fluorescent Adole...|\n",
      "|  More Than You Know|\n",
      "|          Gucci Gang|\n",
      "|\"Another Day Of S...|\n",
      "+--------------------+\n",
      "only showing top 20 rows\n",
      "\n"
     ]
    },
    {
     "name": "stderr",
     "output_type": "stream",
     "text": [
      "\r",
      "[Stage 99:=============================>                            (2 + 2) / 4]\r",
      "\r",
      "                                                                                \r"
     ]
    }
   ],
   "source": [
    "#give distinct categories\n",
    "# Get distinct categories\n",
    "distinct_categories = charts_irl_top200.select('title').distinct()\n",
    "\n",
    "# Show the result\n",
    "distinct_categories.show()"
   ]
  },
  {
   "cell_type": "markdown",
   "id": "a3efffe4",
   "metadata": {},
   "source": [
    "Tried to plot a bar chart to visualize the most popular songs over time. \n",
    "however, the code doesnt recognize special charaters for plotting the graph. this means is necessary to perform a cleaning task to remove such special characters from the dataframe and alow matplot to run better."
   ]
  },
  {
   "cell_type": "code",
   "execution_count": null,
   "id": "20801cd2",
   "metadata": {},
   "outputs": [],
   "source": []
  },
  {
   "cell_type": "code",
   "execution_count": 30,
   "id": "41de61f2",
   "metadata": {},
   "outputs": [
    {
     "name": "stderr",
     "output_type": "stream",
     "text": [
      "Traceback (most recent call last):                                              \n",
      "  File \"/usr/local/spark/python/pyspark/serializers.py\", line 437, in dumps\n",
      "    return cloudpickle.dumps(obj, pickle_protocol)\n",
      "           ^^^^^^^^^^^^^^^^^^^^^^^^^^^^^^^^^^^^^^^\n",
      "  File \"/usr/local/spark/python/pyspark/cloudpickle/cloudpickle_fast.py\", line 73, in dumps\n",
      "    cp.dump(obj)\n",
      "  File \"/usr/local/spark/python/pyspark/cloudpickle/cloudpickle_fast.py\", line 563, in dump\n",
      "    return Pickler.dump(self, obj)\n",
      "           ^^^^^^^^^^^^^^^^^^^^^^^\n",
      "  File \"/usr/local/spark/python/pyspark/cloudpickle/cloudpickle_fast.py\", line 653, in reducer_override\n",
      "    return self._function_reduce(obj)\n",
      "           ^^^^^^^^^^^^^^^^^^^^^^^^^^\n",
      "  File \"/usr/local/spark/python/pyspark/cloudpickle/cloudpickle_fast.py\", line 526, in _function_reduce\n",
      "    return self._dynamic_function_reduce(obj)\n",
      "           ^^^^^^^^^^^^^^^^^^^^^^^^^^^^^^^^^^\n",
      "  File \"/usr/local/spark/python/pyspark/cloudpickle/cloudpickle_fast.py\", line 507, in _dynamic_function_reduce\n",
      "    state = _function_getstate(func)\n",
      "            ^^^^^^^^^^^^^^^^^^^^^^^^\n",
      "  File \"/usr/local/spark/python/pyspark/cloudpickle/cloudpickle_fast.py\", line 157, in _function_getstate\n",
      "    f_globals_ref = _extract_code_globals(func.__code__)\n",
      "                    ^^^^^^^^^^^^^^^^^^^^^^^^^^^^^^^^^^^^\n",
      "  File \"/usr/local/spark/python/pyspark/cloudpickle/cloudpickle.py\", line 236, in _extract_code_globals\n",
      "    out_names = {names[oparg] for _, oparg in _walk_global_ops(co)}\n",
      "                ^^^^^^^^^^^^^^^^^^^^^^^^^^^^^^^^^^^^^^^^^^^^^^^^^^^\n",
      "  File \"/usr/local/spark/python/pyspark/cloudpickle/cloudpickle.py\", line 236, in <setcomp>\n",
      "    out_names = {names[oparg] for _, oparg in _walk_global_ops(co)}\n",
      "                 ~~~~~^^^^^^^\n",
      "IndexError: tuple index out of range\n"
     ]
    },
    {
     "ename": "PicklingError",
     "evalue": "Could not serialize object: IndexError: tuple index out of range",
     "output_type": "error",
     "traceback": [
      "\u001b[0;31m---------------------------------------------------------------------------\u001b[0m",
      "\u001b[0;31mIndexError\u001b[0m                                Traceback (most recent call last)",
      "File \u001b[0;32m/usr/local/spark/python/pyspark/serializers.py:437\u001b[0m, in \u001b[0;36mCloudPickleSerializer.dumps\u001b[0;34m(self, obj)\u001b[0m\n\u001b[1;32m    436\u001b[0m \u001b[38;5;28;01mtry\u001b[39;00m:\n\u001b[0;32m--> 437\u001b[0m     \u001b[38;5;28;01mreturn\u001b[39;00m \u001b[43mcloudpickle\u001b[49m\u001b[38;5;241;43m.\u001b[39;49m\u001b[43mdumps\u001b[49m\u001b[43m(\u001b[49m\u001b[43mobj\u001b[49m\u001b[43m,\u001b[49m\u001b[43m \u001b[49m\u001b[43mpickle_protocol\u001b[49m\u001b[43m)\u001b[49m\n\u001b[1;32m    438\u001b[0m \u001b[38;5;28;01mexcept\u001b[39;00m pickle\u001b[38;5;241m.\u001b[39mPickleError:\n",
      "File \u001b[0;32m/usr/local/spark/python/pyspark/cloudpickle/cloudpickle_fast.py:73\u001b[0m, in \u001b[0;36mdumps\u001b[0;34m(obj, protocol, buffer_callback)\u001b[0m\n\u001b[1;32m     70\u001b[0m cp \u001b[38;5;241m=\u001b[39m CloudPickler(\n\u001b[1;32m     71\u001b[0m     file, protocol\u001b[38;5;241m=\u001b[39mprotocol, buffer_callback\u001b[38;5;241m=\u001b[39mbuffer_callback\n\u001b[1;32m     72\u001b[0m )\n\u001b[0;32m---> 73\u001b[0m \u001b[43mcp\u001b[49m\u001b[38;5;241;43m.\u001b[39;49m\u001b[43mdump\u001b[49m\u001b[43m(\u001b[49m\u001b[43mobj\u001b[49m\u001b[43m)\u001b[49m\n\u001b[1;32m     74\u001b[0m \u001b[38;5;28;01mreturn\u001b[39;00m file\u001b[38;5;241m.\u001b[39mgetvalue()\n",
      "File \u001b[0;32m/usr/local/spark/python/pyspark/cloudpickle/cloudpickle_fast.py:563\u001b[0m, in \u001b[0;36mCloudPickler.dump\u001b[0;34m(self, obj)\u001b[0m\n\u001b[1;32m    562\u001b[0m \u001b[38;5;28;01mtry\u001b[39;00m:\n\u001b[0;32m--> 563\u001b[0m     \u001b[38;5;28;01mreturn\u001b[39;00m \u001b[43mPickler\u001b[49m\u001b[38;5;241;43m.\u001b[39;49m\u001b[43mdump\u001b[49m\u001b[43m(\u001b[49m\u001b[38;5;28;43mself\u001b[39;49m\u001b[43m,\u001b[49m\u001b[43m \u001b[49m\u001b[43mobj\u001b[49m\u001b[43m)\u001b[49m\n\u001b[1;32m    564\u001b[0m \u001b[38;5;28;01mexcept\u001b[39;00m \u001b[38;5;167;01mRuntimeError\u001b[39;00m \u001b[38;5;28;01mas\u001b[39;00m e:\n",
      "File \u001b[0;32m/usr/local/spark/python/pyspark/cloudpickle/cloudpickle_fast.py:653\u001b[0m, in \u001b[0;36mCloudPickler.reducer_override\u001b[0;34m(self, obj)\u001b[0m\n\u001b[1;32m    652\u001b[0m \u001b[38;5;28;01melif\u001b[39;00m \u001b[38;5;28misinstance\u001b[39m(obj, types\u001b[38;5;241m.\u001b[39mFunctionType):\n\u001b[0;32m--> 653\u001b[0m     \u001b[38;5;28;01mreturn\u001b[39;00m \u001b[38;5;28;43mself\u001b[39;49m\u001b[38;5;241;43m.\u001b[39;49m\u001b[43m_function_reduce\u001b[49m\u001b[43m(\u001b[49m\u001b[43mobj\u001b[49m\u001b[43m)\u001b[49m\n\u001b[1;32m    654\u001b[0m \u001b[38;5;28;01melse\u001b[39;00m:\n\u001b[1;32m    655\u001b[0m     \u001b[38;5;66;03m# fallback to save_global, including the Pickler's\u001b[39;00m\n\u001b[1;32m    656\u001b[0m     \u001b[38;5;66;03m# distpatch_table\u001b[39;00m\n",
      "File \u001b[0;32m/usr/local/spark/python/pyspark/cloudpickle/cloudpickle_fast.py:526\u001b[0m, in \u001b[0;36mCloudPickler._function_reduce\u001b[0;34m(self, obj)\u001b[0m\n\u001b[1;32m    525\u001b[0m \u001b[38;5;28;01melse\u001b[39;00m:\n\u001b[0;32m--> 526\u001b[0m     \u001b[38;5;28;01mreturn\u001b[39;00m \u001b[38;5;28;43mself\u001b[39;49m\u001b[38;5;241;43m.\u001b[39;49m\u001b[43m_dynamic_function_reduce\u001b[49m\u001b[43m(\u001b[49m\u001b[43mobj\u001b[49m\u001b[43m)\u001b[49m\n",
      "File \u001b[0;32m/usr/local/spark/python/pyspark/cloudpickle/cloudpickle_fast.py:507\u001b[0m, in \u001b[0;36mCloudPickler._dynamic_function_reduce\u001b[0;34m(self, func)\u001b[0m\n\u001b[1;32m    506\u001b[0m newargs \u001b[38;5;241m=\u001b[39m \u001b[38;5;28mself\u001b[39m\u001b[38;5;241m.\u001b[39m_function_getnewargs(func)\n\u001b[0;32m--> 507\u001b[0m state \u001b[38;5;241m=\u001b[39m \u001b[43m_function_getstate\u001b[49m\u001b[43m(\u001b[49m\u001b[43mfunc\u001b[49m\u001b[43m)\u001b[49m\n\u001b[1;32m    508\u001b[0m \u001b[38;5;28;01mreturn\u001b[39;00m (types\u001b[38;5;241m.\u001b[39mFunctionType, newargs, state, \u001b[38;5;28;01mNone\u001b[39;00m, \u001b[38;5;28;01mNone\u001b[39;00m,\n\u001b[1;32m    509\u001b[0m         _function_setstate)\n",
      "File \u001b[0;32m/usr/local/spark/python/pyspark/cloudpickle/cloudpickle_fast.py:157\u001b[0m, in \u001b[0;36m_function_getstate\u001b[0;34m(func)\u001b[0m\n\u001b[1;32m    146\u001b[0m slotstate \u001b[38;5;241m=\u001b[39m {\n\u001b[1;32m    147\u001b[0m     \u001b[38;5;124m\"\u001b[39m\u001b[38;5;124m__name__\u001b[39m\u001b[38;5;124m\"\u001b[39m: func\u001b[38;5;241m.\u001b[39m\u001b[38;5;18m__name__\u001b[39m,\n\u001b[1;32m    148\u001b[0m     \u001b[38;5;124m\"\u001b[39m\u001b[38;5;124m__qualname__\u001b[39m\u001b[38;5;124m\"\u001b[39m: func\u001b[38;5;241m.\u001b[39m\u001b[38;5;18m__qualname__\u001b[39m,\n\u001b[0;32m   (...)\u001b[0m\n\u001b[1;32m    154\u001b[0m     \u001b[38;5;124m\"\u001b[39m\u001b[38;5;124m__closure__\u001b[39m\u001b[38;5;124m\"\u001b[39m: func\u001b[38;5;241m.\u001b[39m\u001b[38;5;18m__closure__\u001b[39m,\n\u001b[1;32m    155\u001b[0m }\n\u001b[0;32m--> 157\u001b[0m f_globals_ref \u001b[38;5;241m=\u001b[39m \u001b[43m_extract_code_globals\u001b[49m\u001b[43m(\u001b[49m\u001b[43mfunc\u001b[49m\u001b[38;5;241;43m.\u001b[39;49m\u001b[38;5;18;43m__code__\u001b[39;49m\u001b[43m)\u001b[49m\n\u001b[1;32m    158\u001b[0m f_globals \u001b[38;5;241m=\u001b[39m {k: func\u001b[38;5;241m.\u001b[39m\u001b[38;5;18m__globals__\u001b[39m[k] \u001b[38;5;28;01mfor\u001b[39;00m k \u001b[38;5;129;01min\u001b[39;00m f_globals_ref \u001b[38;5;28;01mif\u001b[39;00m k \u001b[38;5;129;01min\u001b[39;00m\n\u001b[1;32m    159\u001b[0m              func\u001b[38;5;241m.\u001b[39m\u001b[38;5;18m__globals__\u001b[39m}\n",
      "File \u001b[0;32m/usr/local/spark/python/pyspark/cloudpickle/cloudpickle.py:236\u001b[0m, in \u001b[0;36m_extract_code_globals\u001b[0;34m(co)\u001b[0m\n\u001b[1;32m    235\u001b[0m names \u001b[38;5;241m=\u001b[39m co\u001b[38;5;241m.\u001b[39mco_names\n\u001b[0;32m--> 236\u001b[0m out_names \u001b[38;5;241m=\u001b[39m \u001b[43m{\u001b[49m\u001b[43mnames\u001b[49m\u001b[43m[\u001b[49m\u001b[43moparg\u001b[49m\u001b[43m]\u001b[49m\u001b[43m \u001b[49m\u001b[38;5;28;43;01mfor\u001b[39;49;00m\u001b[43m \u001b[49m\u001b[43m_\u001b[49m\u001b[43m,\u001b[49m\u001b[43m \u001b[49m\u001b[43moparg\u001b[49m\u001b[43m \u001b[49m\u001b[38;5;129;43;01min\u001b[39;49;00m\u001b[43m \u001b[49m\u001b[43m_walk_global_ops\u001b[49m\u001b[43m(\u001b[49m\u001b[43mco\u001b[49m\u001b[43m)\u001b[49m\u001b[43m}\u001b[49m\n\u001b[1;32m    238\u001b[0m \u001b[38;5;66;03m# Declaring a function inside another one using the \"def ...\"\u001b[39;00m\n\u001b[1;32m    239\u001b[0m \u001b[38;5;66;03m# syntax generates a constant code object corresonding to the one\u001b[39;00m\n\u001b[1;32m    240\u001b[0m \u001b[38;5;66;03m# of the nested function's As the nested function may itself need\u001b[39;00m\n\u001b[1;32m    241\u001b[0m \u001b[38;5;66;03m# global variables, we need to introspect its code, extract its\u001b[39;00m\n\u001b[1;32m    242\u001b[0m \u001b[38;5;66;03m# globals, (look for code object in it's co_consts attribute..) and\u001b[39;00m\n\u001b[1;32m    243\u001b[0m \u001b[38;5;66;03m# add the result to code_globals\u001b[39;00m\n",
      "File \u001b[0;32m/usr/local/spark/python/pyspark/cloudpickle/cloudpickle.py:236\u001b[0m, in \u001b[0;36m<setcomp>\u001b[0;34m(.0)\u001b[0m\n\u001b[1;32m    235\u001b[0m names \u001b[38;5;241m=\u001b[39m co\u001b[38;5;241m.\u001b[39mco_names\n\u001b[0;32m--> 236\u001b[0m out_names \u001b[38;5;241m=\u001b[39m {\u001b[43mnames\u001b[49m\u001b[43m[\u001b[49m\u001b[43moparg\u001b[49m\u001b[43m]\u001b[49m \u001b[38;5;28;01mfor\u001b[39;00m _, oparg \u001b[38;5;129;01min\u001b[39;00m _walk_global_ops(co)}\n\u001b[1;32m    238\u001b[0m \u001b[38;5;66;03m# Declaring a function inside another one using the \"def ...\"\u001b[39;00m\n\u001b[1;32m    239\u001b[0m \u001b[38;5;66;03m# syntax generates a constant code object corresonding to the one\u001b[39;00m\n\u001b[1;32m    240\u001b[0m \u001b[38;5;66;03m# of the nested function's As the nested function may itself need\u001b[39;00m\n\u001b[1;32m    241\u001b[0m \u001b[38;5;66;03m# global variables, we need to introspect its code, extract its\u001b[39;00m\n\u001b[1;32m    242\u001b[0m \u001b[38;5;66;03m# globals, (look for code object in it's co_consts attribute..) and\u001b[39;00m\n\u001b[1;32m    243\u001b[0m \u001b[38;5;66;03m# add the result to code_globals\u001b[39;00m\n",
      "\u001b[0;31mIndexError\u001b[0m: tuple index out of range",
      "\nDuring handling of the above exception, another exception occurred:\n",
      "\u001b[0;31mPicklingError\u001b[0m                             Traceback (most recent call last)",
      "Cell \u001b[0;32mIn [30], line 6\u001b[0m\n\u001b[1;32m      1\u001b[0m \u001b[38;5;28;01mimport\u001b[39;00m \u001b[38;5;21;01mmatplotlib\u001b[39;00m\u001b[38;5;21;01m.\u001b[39;00m\u001b[38;5;21;01mpyplot\u001b[39;00m \u001b[38;5;28;01mas\u001b[39;00m \u001b[38;5;21;01mplt\u001b[39;00m\n\u001b[1;32m      3\u001b[0m \u001b[38;5;66;03m# Assuming 'popular_songs' is your DataFrame with song rankings\u001b[39;00m\n\u001b[1;32m      4\u001b[0m \n\u001b[1;32m      5\u001b[0m \u001b[38;5;66;03m# Extract the song titles and their corresponding counts\u001b[39;00m\n\u001b[0;32m----> 6\u001b[0m titles \u001b[38;5;241m=\u001b[39m \u001b[43mpopular_songs\u001b[49m\u001b[38;5;241;43m.\u001b[39;49m\u001b[43mselect\u001b[49m\u001b[43m(\u001b[49m\u001b[38;5;124;43m'\u001b[39;49m\u001b[38;5;124;43mtitle\u001b[39;49m\u001b[38;5;124;43m'\u001b[39;49m\u001b[43m)\u001b[49m\u001b[38;5;241;43m.\u001b[39;49m\u001b[43mrdd\u001b[49m\u001b[38;5;241;43m.\u001b[39;49m\u001b[43mflatMap\u001b[49m\u001b[43m(\u001b[49m\u001b[38;5;28;43;01mlambda\u001b[39;49;00m\u001b[43m \u001b[49m\u001b[43mx\u001b[49m\u001b[43m:\u001b[49m\u001b[43m \u001b[49m\u001b[43mx\u001b[49m\u001b[43m)\u001b[49m\u001b[38;5;241;43m.\u001b[39;49m\u001b[43mcollect\u001b[49m\u001b[43m(\u001b[49m\u001b[43m)\u001b[49m\n\u001b[1;32m      7\u001b[0m counts \u001b[38;5;241m=\u001b[39m popular_songs\u001b[38;5;241m.\u001b[39mselect(\u001b[38;5;124m'\u001b[39m\u001b[38;5;124mcount\u001b[39m\u001b[38;5;124m'\u001b[39m)\u001b[38;5;241m.\u001b[39mrdd\u001b[38;5;241m.\u001b[39mflatMap(\u001b[38;5;28;01mlambda\u001b[39;00m x: x)\u001b[38;5;241m.\u001b[39mcollect()\n\u001b[1;32m      9\u001b[0m \u001b[38;5;66;03m# Create a bar chart to visualize the popularity of songs\u001b[39;00m\n",
      "File \u001b[0;32m/usr/local/spark/python/pyspark/rdd.py:950\u001b[0m, in \u001b[0;36mRDD.collect\u001b[0;34m(self)\u001b[0m\n\u001b[1;32m    941\u001b[0m \u001b[38;5;250m\u001b[39m\u001b[38;5;124;03m\"\"\"\u001b[39;00m\n\u001b[1;32m    942\u001b[0m \u001b[38;5;124;03mReturn a list that contains all of the elements in this RDD.\u001b[39;00m\n\u001b[1;32m    943\u001b[0m \n\u001b[0;32m   (...)\u001b[0m\n\u001b[1;32m    947\u001b[0m \u001b[38;5;124;03mto be small, as all the data is loaded into the driver's memory.\u001b[39;00m\n\u001b[1;32m    948\u001b[0m \u001b[38;5;124;03m\"\"\"\u001b[39;00m\n\u001b[1;32m    949\u001b[0m \u001b[38;5;28;01mwith\u001b[39;00m SCCallSiteSync(\u001b[38;5;28mself\u001b[39m\u001b[38;5;241m.\u001b[39mcontext) \u001b[38;5;28;01mas\u001b[39;00m css:\n\u001b[0;32m--> 950\u001b[0m     sock_info \u001b[38;5;241m=\u001b[39m \u001b[38;5;28mself\u001b[39m\u001b[38;5;241m.\u001b[39mctx\u001b[38;5;241m.\u001b[39m_jvm\u001b[38;5;241m.\u001b[39mPythonRDD\u001b[38;5;241m.\u001b[39mcollectAndServe(\u001b[38;5;28;43mself\u001b[39;49m\u001b[38;5;241;43m.\u001b[39;49m\u001b[43m_jrdd\u001b[49m\u001b[38;5;241m.\u001b[39mrdd())\n\u001b[1;32m    951\u001b[0m \u001b[38;5;28;01mreturn\u001b[39;00m \u001b[38;5;28mlist\u001b[39m(_load_from_socket(sock_info, \u001b[38;5;28mself\u001b[39m\u001b[38;5;241m.\u001b[39m_jrdd_deserializer))\n",
      "File \u001b[0;32m/usr/local/spark/python/pyspark/rdd.py:2951\u001b[0m, in \u001b[0;36mPipelinedRDD._jrdd\u001b[0;34m(self)\u001b[0m\n\u001b[1;32m   2948\u001b[0m \u001b[38;5;28;01melse\u001b[39;00m:\n\u001b[1;32m   2949\u001b[0m     profiler \u001b[38;5;241m=\u001b[39m \u001b[38;5;28;01mNone\u001b[39;00m\n\u001b[0;32m-> 2951\u001b[0m wrapped_func \u001b[38;5;241m=\u001b[39m \u001b[43m_wrap_function\u001b[49m\u001b[43m(\u001b[49m\u001b[38;5;28;43mself\u001b[39;49m\u001b[38;5;241;43m.\u001b[39;49m\u001b[43mctx\u001b[49m\u001b[43m,\u001b[49m\u001b[43m \u001b[49m\u001b[38;5;28;43mself\u001b[39;49m\u001b[38;5;241;43m.\u001b[39;49m\u001b[43mfunc\u001b[49m\u001b[43m,\u001b[49m\u001b[43m \u001b[49m\u001b[38;5;28;43mself\u001b[39;49m\u001b[38;5;241;43m.\u001b[39;49m\u001b[43m_prev_jrdd_deserializer\u001b[49m\u001b[43m,\u001b[49m\n\u001b[1;32m   2952\u001b[0m \u001b[43m                              \u001b[49m\u001b[38;5;28;43mself\u001b[39;49m\u001b[38;5;241;43m.\u001b[39;49m\u001b[43m_jrdd_deserializer\u001b[49m\u001b[43m,\u001b[49m\u001b[43m \u001b[49m\u001b[43mprofiler\u001b[49m\u001b[43m)\u001b[49m\n\u001b[1;32m   2953\u001b[0m python_rdd \u001b[38;5;241m=\u001b[39m \u001b[38;5;28mself\u001b[39m\u001b[38;5;241m.\u001b[39mctx\u001b[38;5;241m.\u001b[39m_jvm\u001b[38;5;241m.\u001b[39mPythonRDD(\u001b[38;5;28mself\u001b[39m\u001b[38;5;241m.\u001b[39m_prev_jrdd\u001b[38;5;241m.\u001b[39mrdd(), wrapped_func,\n\u001b[1;32m   2954\u001b[0m                                      \u001b[38;5;28mself\u001b[39m\u001b[38;5;241m.\u001b[39mpreservesPartitioning, \u001b[38;5;28mself\u001b[39m\u001b[38;5;241m.\u001b[39mis_barrier)\n\u001b[1;32m   2955\u001b[0m \u001b[38;5;28mself\u001b[39m\u001b[38;5;241m.\u001b[39m_jrdd_val \u001b[38;5;241m=\u001b[39m python_rdd\u001b[38;5;241m.\u001b[39masJavaRDD()\n",
      "File \u001b[0;32m/usr/local/spark/python/pyspark/rdd.py:2830\u001b[0m, in \u001b[0;36m_wrap_function\u001b[0;34m(sc, func, deserializer, serializer, profiler)\u001b[0m\n\u001b[1;32m   2828\u001b[0m \u001b[38;5;28;01massert\u001b[39;00m serializer, \u001b[38;5;124m\"\u001b[39m\u001b[38;5;124mserializer should not be empty\u001b[39m\u001b[38;5;124m\"\u001b[39m\n\u001b[1;32m   2829\u001b[0m command \u001b[38;5;241m=\u001b[39m (func, profiler, deserializer, serializer)\n\u001b[0;32m-> 2830\u001b[0m pickled_command, broadcast_vars, env, includes \u001b[38;5;241m=\u001b[39m \u001b[43m_prepare_for_python_RDD\u001b[49m\u001b[43m(\u001b[49m\u001b[43msc\u001b[49m\u001b[43m,\u001b[49m\u001b[43m \u001b[49m\u001b[43mcommand\u001b[49m\u001b[43m)\u001b[49m\n\u001b[1;32m   2831\u001b[0m \u001b[38;5;28;01mreturn\u001b[39;00m sc\u001b[38;5;241m.\u001b[39m_jvm\u001b[38;5;241m.\u001b[39mPythonFunction(\u001b[38;5;28mbytearray\u001b[39m(pickled_command), env, includes, sc\u001b[38;5;241m.\u001b[39mpythonExec,\n\u001b[1;32m   2832\u001b[0m                               sc\u001b[38;5;241m.\u001b[39mpythonVer, broadcast_vars, sc\u001b[38;5;241m.\u001b[39m_javaAccumulator)\n",
      "File \u001b[0;32m/usr/local/spark/python/pyspark/rdd.py:2816\u001b[0m, in \u001b[0;36m_prepare_for_python_RDD\u001b[0;34m(sc, command)\u001b[0m\n\u001b[1;32m   2813\u001b[0m \u001b[38;5;28;01mdef\u001b[39;00m \u001b[38;5;21m_prepare_for_python_RDD\u001b[39m(sc, command):\n\u001b[1;32m   2814\u001b[0m     \u001b[38;5;66;03m# the serialized command will be compressed by broadcast\u001b[39;00m\n\u001b[1;32m   2815\u001b[0m     ser \u001b[38;5;241m=\u001b[39m CloudPickleSerializer()\n\u001b[0;32m-> 2816\u001b[0m     pickled_command \u001b[38;5;241m=\u001b[39m \u001b[43mser\u001b[49m\u001b[38;5;241;43m.\u001b[39;49m\u001b[43mdumps\u001b[49m\u001b[43m(\u001b[49m\u001b[43mcommand\u001b[49m\u001b[43m)\u001b[49m\n\u001b[1;32m   2817\u001b[0m     \u001b[38;5;28;01mif\u001b[39;00m \u001b[38;5;28mlen\u001b[39m(pickled_command) \u001b[38;5;241m>\u001b[39m sc\u001b[38;5;241m.\u001b[39m_jvm\u001b[38;5;241m.\u001b[39mPythonUtils\u001b[38;5;241m.\u001b[39mgetBroadcastThreshold(sc\u001b[38;5;241m.\u001b[39m_jsc):  \u001b[38;5;66;03m# Default 1M\u001b[39;00m\n\u001b[1;32m   2818\u001b[0m         \u001b[38;5;66;03m# The broadcast will have same life cycle as created PythonRDD\u001b[39;00m\n\u001b[1;32m   2819\u001b[0m         broadcast \u001b[38;5;241m=\u001b[39m sc\u001b[38;5;241m.\u001b[39mbroadcast(pickled_command)\n",
      "File \u001b[0;32m/usr/local/spark/python/pyspark/serializers.py:447\u001b[0m, in \u001b[0;36mCloudPickleSerializer.dumps\u001b[0;34m(self, obj)\u001b[0m\n\u001b[1;32m    445\u001b[0m     msg \u001b[38;5;241m=\u001b[39m \u001b[38;5;124m\"\u001b[39m\u001b[38;5;124mCould not serialize object: \u001b[39m\u001b[38;5;132;01m%s\u001b[39;00m\u001b[38;5;124m: \u001b[39m\u001b[38;5;132;01m%s\u001b[39;00m\u001b[38;5;124m\"\u001b[39m \u001b[38;5;241m%\u001b[39m (e\u001b[38;5;241m.\u001b[39m\u001b[38;5;18m__class__\u001b[39m\u001b[38;5;241m.\u001b[39m\u001b[38;5;18m__name__\u001b[39m, emsg)\n\u001b[1;32m    446\u001b[0m print_exec(sys\u001b[38;5;241m.\u001b[39mstderr)\n\u001b[0;32m--> 447\u001b[0m \u001b[38;5;28;01mraise\u001b[39;00m pickle\u001b[38;5;241m.\u001b[39mPicklingError(msg)\n",
      "\u001b[0;31mPicklingError\u001b[0m: Could not serialize object: IndexError: tuple index out of range"
     ]
    }
   ],
   "source": [
    "import matplotlib.pyplot as plt\n",
    "\n",
    "# Assuming 'popular_songs' is your DataFrame with song rankings\n",
    "\n",
    "# Extract the song titles and their corresponding counts\n",
    "titles = popular_songs.select('title').rdd.flatMap(lambda x: x).collect()\n",
    "counts = popular_songs.select('count').rdd.flatMap(lambda x: x).collect()\n",
    "\n",
    "# Create a bar chart to visualize the popularity of songs\n",
    "plt.figure(figsize=(12, 6))\n",
    "plt.bar(range(len(titles)), counts)\n",
    "plt.xlabel('Song Titles')\n",
    "plt.ylabel('Count')\n",
    "plt.title('Popularity of Songs')\n",
    "plt.xticks(range(len(titles)), titles, rotation=90)  # Set x-axis labels with titles\n",
    "plt.tight_layout()  # Ensures labels fit in the figure\n",
    "plt.show()\n",
    "#This code should now be able to handle special characters in song titles. If you encounter any further issues or have specific requirements, please let me know!\n",
    "\n",
    "\n",
    "\n",
    "\n",
    "\n"
   ]
  },
  {
   "cell_type": "markdown",
   "id": "4ee68f46",
   "metadata": {},
   "source": [
    "the 'trend' feature shows whether a song was moved up or down on the ranking, as well as if remaind with a neutral position or is a new title entered the top. for this report this data wont be used, the same as the url of each song. both features can be removed from the dataset.\n",
    "\n",
    "in further steps, the streams feature will be looked with more attention, since is one of the numeric data that can be used for prediction algorithms, but need to make sure there are no missing values or "
   ]
  },
  {
   "cell_type": "code",
   "execution_count": 32,
   "id": "2288727e",
   "metadata": {},
   "outputs": [
    {
     "name": "stdout",
     "output_type": "stream",
     "text": [
      "+--------------------+----+----------+--------------------+-------+------+-------+\n",
      "|               title|rank|      date|              artist| region| chart|streams|\n",
      "+--------------------+----+----------+--------------------+-------+------+-------+\n",
      "|        Toosie Slide|   1|2020-05-01|               Drake|Ireland|top200|59854.0|\n",
      "|Roses - Imanbek R...|   2|2020-05-01|           SAINt JHN|Ireland|top200|54275.0|\n",
      "|     Blinding Lights|   3|2020-05-01|          The Weeknd|Ireland|top200|53050.0|\n",
      "|Pain 1993 (with P...|   4|2020-05-01|               Drake|Ireland|top200|39508.0|\n",
      "|          THE SCOTTS|   5|2020-05-01|THE SCOTTS, Travi...|Ireland|top200|37512.0|\n",
      "|     Blueberry Faygo|   6|2020-05-01|           Lil Mosey|Ireland|top200|34503.0|\n",
      "|Chicago Freestyle...|   7|2020-05-01|               Drake|Ireland|top200|34169.0|\n",
      "|ROCKSTAR (feat. R...|   8|2020-05-01|              DaBaby|Ireland|top200|33465.0|\n",
      "|      Break My Heart|   9|2020-05-01|            Dua Lipa|Ireland|top200|28783.0|\n",
      "|death bed (coffee...|  10|2020-05-01|  Powfu, beabadoobee|Ireland|top200|27642.0|\n",
      "|              Say So|  11|2020-05-01|            Doja Cat|Ireland|top200|27546.0|\n",
      "|                Rain|  12|2020-05-01|Aitch, AJ Tracey,...|Ireland|top200|26486.0|\n",
      "|Savage Remix (fea...|  13|2020-05-01|Beyoncé, Megan Th...|Ireland|top200|26058.0|\n",
      "|     Don't Start Now|  14|2020-05-01|            Dua Lipa|Ireland|top200|25616.0|\n",
      "|              Lonely|  15|2020-05-01|          Joel Corry|Ireland|top200|25100.0|\n",
      "|          Boss Bitch|  16|2020-05-01|            Doja Cat|Ireland|top200|24677.0|\n",
      "|        Deep Pockets|  17|2020-05-01|               Drake|Ireland|top200|24261.0|\n",
      "|Houdini (feat. Sw...|  18|2020-05-01|                 KSI|Ireland|top200|24175.0|\n",
      "|Not You Too (feat...|  19|2020-05-01|               Drake|Ireland|top200|24070.0|\n",
      "|             The Box|  20|2020-05-01|         Roddy Ricch|Ireland|top200|24035.0|\n",
      "+--------------------+----+----------+--------------------+-------+------+-------+\n",
      "only showing top 20 rows\n",
      "\n"
     ]
    }
   ],
   "source": [
    "# filter rows for 2019 and after.\n",
    "charts_irl.filter(charts_irl['date'] > '2019').show()"
   ]
  },
  {
   "cell_type": "code",
   "execution_count": null,
   "id": "18c83d3a",
   "metadata": {},
   "outputs": [],
   "source": []
  },
  {
   "cell_type": "code",
   "execution_count": null,
   "id": "41429e4c",
   "metadata": {},
   "outputs": [],
   "source": []
  },
  {
   "cell_type": "code",
   "execution_count": null,
   "id": "80caafc0",
   "metadata": {},
   "outputs": [],
   "source": []
  },
  {
   "cell_type": "code",
   "execution_count": null,
   "id": "c46fcf27",
   "metadata": {},
   "outputs": [],
   "source": []
  },
  {
   "cell_type": "code",
   "execution_count": null,
   "id": "c0c4b8c3",
   "metadata": {},
   "outputs": [],
   "source": []
  },
  {
   "cell_type": "code",
   "execution_count": null,
   "id": "fa2b2d6b",
   "metadata": {},
   "outputs": [],
   "source": []
  }
 ],
 "metadata": {
  "kernelspec": {
   "display_name": "Python 3 (ipykernel)",
   "language": "python",
   "name": "python3"
  },
  "language_info": {
   "codemirror_mode": {
    "name": "ipython",
    "version": 3
   },
   "file_extension": ".py",
   "mimetype": "text/x-python",
   "name": "python",
   "nbconvert_exporter": "python",
   "pygments_lexer": "ipython3",
   "version": "3.11.4"
  }
 },
 "nbformat": 4,
 "nbformat_minor": 5
}
