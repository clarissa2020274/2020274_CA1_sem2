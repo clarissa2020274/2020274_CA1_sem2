{
 "cells": [
  {
   "cell_type": "markdown",
   "id": "aa9d32bf",
   "metadata": {},
   "source": [
    "## MSc Data Analytics Feb 2023 FT \n",
    "\n",
    "## Continuous Assessment 1 - Semester 2 \n",
    "\n",
    "Advanced Data Analytics Big Data Storage and Processing\n",
    "\n",
    "Deep Learning using Big Data for Predicting a song rank position. \n",
    "\n",
    "This notebook is a Part II for the Integrated Assignment, after running different tests and following class tutorials for processing data with Ubuntu in a Virtual Machine environment, I was not able to install tensorflow and its functions to perform deep learning algorithms. I use this notebook firstly to extract the features to be analysed in the Virtual Machine with ubuntu and pyspark since my vm could not support the original csv file retrieved from Kaggle.\n",
    "\n",
    "So first before cleaning the dataset, it was filtered for only Ireland's charts and stored on a new csv to be imported inside the vm. Once the data preprocessing was done in the vm, and a clear view of the dataset was made possible, the objectives of the project were redifined to attempt predicting the rank of a specif song, due to time and technical resources in place. I was too ambitious to think i could predict the entire Top 200 chart at this stage, so I reassesed the dataset and tried to take a step back and learn the tools with a simpler goal. \n",
    "\n",
    "Once i was able to select the song after the processing the dataset in the vm, this notebook was reopened and i could filter out the exact features needed for modeling outside the vm, using basic pandas functions and \n",
    "\n",
    "\n",
    "Clarissa Cardoso - 2020274\n",
    "\n",
    "\n",
    "\n"
   ]
  },
  {
   "cell_type": "code",
   "execution_count": null,
   "id": "ce806c85",
   "metadata": {},
   "outputs": [],
   "source": []
  },
  {
   "cell_type": "code",
   "execution_count": 2,
   "id": "7016d995",
   "metadata": {},
   "outputs": [],
   "source": [
    "#importing libraries\n",
    "import warnings\n",
    "warnings.filterwarnings(\"ignore\")\n",
    "\n",
    "import pandas as pd #dataframes \n",
    "import numpy as np #linear algebra\n",
    "import seaborn as sns #visualization\n",
    "sns.set(color_codes=True)\n",
    "\n",
    "\n",
    "\n",
    "import scipy.stats as stats #statistical resources\n",
    "\n",
    "import matplotlib.pyplot as plt #visualisation \n",
    "%matplotlib inline \n",
    "import matplotlib.pyplot as plt\n",
    "import numpy as np\n",
    "from matplotlib import colors\n",
    "from matplotlib.ticker import PercentFormatter\n",
    "\n",
    "from matplotlib.figure import Figure\n",
    "from matplotlib.backends.backend_agg import FigureCanvas\n",
    "\n",
    "\n",
    "import plotly.express as px\n",
    "import plotly.graph_objects as go\n",
    "import matplotlib.ticker as ticker\n",
    "\n",
    "import plotly.graph_objects as go\n",
    "from plotly.subplots import make_subplots\n",
    "\n",
    "\n",
    "import os\n",
    "\n",
    "from sklearn.model_selection import train_test_split # importing function to split the data training and test.\n",
    "from sklearn.preprocessing import MinMaxScaler # Import the MinMaxScaler module from sklearn.preprocessing library\n",
    "from sklearn.linear_model import LinearRegression # importing to performe linear regression. \n",
    "from sklearn.metrics import make_scorer, r2_score # Importing from Metrics module\n",
    "from sklearn.preprocessing import StandardScaler # standardize the data\n",
    "from sklearn import metrics # Metrics module from scikit-learn\n",
    "from sklearn.model_selection import GridSearchCV # importing for hyperparameter tunning\n",
    "from sklearn.metrics import mean_squared_error # importing mse\n",
    "from scipy.stats import shapiro\n",
    "\n"
   ]
  },
  {
   "cell_type": "code",
   "execution_count": 3,
   "id": "757c1d80",
   "metadata": {},
   "outputs": [],
   "source": [
    "# checkig if i'm able to import tensorflow and its features.\n",
    "import tensorflow as tf\n",
    "from tensorflow.keras.models import Sequential\n",
    "from tensorflow.keras.layers import Dense"
   ]
  },
  {
   "cell_type": "code",
   "execution_count": null,
   "id": "aa4fb76e",
   "metadata": {},
   "outputs": [],
   "source": []
  },
  {
   "cell_type": "markdown",
   "id": "1b0414c6",
   "metadata": {},
   "source": [
    "## 1. Exploratory Data Analysis (EDA):"
   ]
  },
  {
   "cell_type": "code",
   "execution_count": 4,
   "id": "3a6c3010",
   "metadata": {},
   "outputs": [],
   "source": [
    "#Import dataset\n",
    "charts = pd.read_csv(\"charts.csv\")"
   ]
  },
  {
   "cell_type": "code",
   "execution_count": 5,
   "id": "fc7afab3",
   "metadata": {},
   "outputs": [
    {
     "data": {
      "text/html": [
       "<div>\n",
       "<style scoped>\n",
       "    .dataframe tbody tr th:only-of-type {\n",
       "        vertical-align: middle;\n",
       "    }\n",
       "\n",
       "    .dataframe tbody tr th {\n",
       "        vertical-align: top;\n",
       "    }\n",
       "\n",
       "    .dataframe thead th {\n",
       "        text-align: right;\n",
       "    }\n",
       "</style>\n",
       "<table border=\"1\" class=\"dataframe\">\n",
       "  <thead>\n",
       "    <tr style=\"text-align: right;\">\n",
       "      <th></th>\n",
       "      <th>title</th>\n",
       "      <th>rank</th>\n",
       "      <th>date</th>\n",
       "      <th>artist</th>\n",
       "      <th>url</th>\n",
       "      <th>region</th>\n",
       "      <th>chart</th>\n",
       "      <th>trend</th>\n",
       "      <th>streams</th>\n",
       "    </tr>\n",
       "  </thead>\n",
       "  <tbody>\n",
       "    <tr>\n",
       "      <th>0</th>\n",
       "      <td>Chantaje (feat. Maluma)</td>\n",
       "      <td>1</td>\n",
       "      <td>2017-01-01</td>\n",
       "      <td>Shakira</td>\n",
       "      <td>https://open.spotify.com/track/6mICuAdrwEjh6Y6...</td>\n",
       "      <td>Argentina</td>\n",
       "      <td>top200</td>\n",
       "      <td>SAME_POSITION</td>\n",
       "      <td>253019.0</td>\n",
       "    </tr>\n",
       "    <tr>\n",
       "      <th>1</th>\n",
       "      <td>Vente Pa' Ca (feat. Maluma)</td>\n",
       "      <td>2</td>\n",
       "      <td>2017-01-01</td>\n",
       "      <td>Ricky Martin</td>\n",
       "      <td>https://open.spotify.com/track/7DM4BPaS7uofFul...</td>\n",
       "      <td>Argentina</td>\n",
       "      <td>top200</td>\n",
       "      <td>MOVE_UP</td>\n",
       "      <td>223988.0</td>\n",
       "    </tr>\n",
       "    <tr>\n",
       "      <th>2</th>\n",
       "      <td>Reggaetón Lento (Bailemos)</td>\n",
       "      <td>3</td>\n",
       "      <td>2017-01-01</td>\n",
       "      <td>CNCO</td>\n",
       "      <td>https://open.spotify.com/track/3AEZUABDXNtecAO...</td>\n",
       "      <td>Argentina</td>\n",
       "      <td>top200</td>\n",
       "      <td>MOVE_DOWN</td>\n",
       "      <td>210943.0</td>\n",
       "    </tr>\n",
       "    <tr>\n",
       "      <th>3</th>\n",
       "      <td>Safari</td>\n",
       "      <td>4</td>\n",
       "      <td>2017-01-01</td>\n",
       "      <td>J Balvin, Pharrell Williams, BIA, Sky</td>\n",
       "      <td>https://open.spotify.com/track/6rQSrBHf7HlZjtc...</td>\n",
       "      <td>Argentina</td>\n",
       "      <td>top200</td>\n",
       "      <td>SAME_POSITION</td>\n",
       "      <td>173865.0</td>\n",
       "    </tr>\n",
       "    <tr>\n",
       "      <th>4</th>\n",
       "      <td>Shaky Shaky</td>\n",
       "      <td>5</td>\n",
       "      <td>2017-01-01</td>\n",
       "      <td>Daddy Yankee</td>\n",
       "      <td>https://open.spotify.com/track/58IL315gMSTD37D...</td>\n",
       "      <td>Argentina</td>\n",
       "      <td>top200</td>\n",
       "      <td>MOVE_UP</td>\n",
       "      <td>153956.0</td>\n",
       "    </tr>\n",
       "    <tr>\n",
       "      <th>...</th>\n",
       "      <td>...</td>\n",
       "      <td>...</td>\n",
       "      <td>...</td>\n",
       "      <td>...</td>\n",
       "      <td>...</td>\n",
       "      <td>...</td>\n",
       "      <td>...</td>\n",
       "      <td>...</td>\n",
       "      <td>...</td>\n",
       "    </tr>\n",
       "    <tr>\n",
       "      <th>26173509</th>\n",
       "      <td>BYE</td>\n",
       "      <td>46</td>\n",
       "      <td>2021-07-31</td>\n",
       "      <td>Jaden</td>\n",
       "      <td>https://open.spotify.com/track/3OUyyDN7EZrL7i0...</td>\n",
       "      <td>Vietnam</td>\n",
       "      <td>viral50</td>\n",
       "      <td>MOVE_UP</td>\n",
       "      <td>NaN</td>\n",
       "    </tr>\n",
       "    <tr>\n",
       "      <th>26173510</th>\n",
       "      <td>Pillars</td>\n",
       "      <td>47</td>\n",
       "      <td>2021-07-31</td>\n",
       "      <td>My Anh</td>\n",
       "      <td>https://open.spotify.com/track/6eky30oFiQbHUAT...</td>\n",
       "      <td>Vietnam</td>\n",
       "      <td>viral50</td>\n",
       "      <td>NEW_ENTRY</td>\n",
       "      <td>NaN</td>\n",
       "    </tr>\n",
       "    <tr>\n",
       "      <th>26173511</th>\n",
       "      <td>Gái Độc Thân</td>\n",
       "      <td>48</td>\n",
       "      <td>2021-07-31</td>\n",
       "      <td>Tlinh</td>\n",
       "      <td>https://open.spotify.com/track/2klsSb2iTfgDh95...</td>\n",
       "      <td>Vietnam</td>\n",
       "      <td>viral50</td>\n",
       "      <td>MOVE_DOWN</td>\n",
       "      <td>NaN</td>\n",
       "    </tr>\n",
       "    <tr>\n",
       "      <th>26173512</th>\n",
       "      <td>Renegade (feat. Taylor Swift)</td>\n",
       "      <td>49</td>\n",
       "      <td>2021-07-31</td>\n",
       "      <td>Big Red Machine</td>\n",
       "      <td>https://open.spotify.com/track/1aU1wpYBSpP0M6I...</td>\n",
       "      <td>Vietnam</td>\n",
       "      <td>viral50</td>\n",
       "      <td>MOVE_DOWN</td>\n",
       "      <td>NaN</td>\n",
       "    </tr>\n",
       "    <tr>\n",
       "      <th>26173513</th>\n",
       "      <td>Letter to Jarad</td>\n",
       "      <td>50</td>\n",
       "      <td>2021-07-31</td>\n",
       "      <td>LRN Slime, Shiloh Dynasty</td>\n",
       "      <td>https://open.spotify.com/track/508QhA2SncMbh5C...</td>\n",
       "      <td>Vietnam</td>\n",
       "      <td>viral50</td>\n",
       "      <td>MOVE_DOWN</td>\n",
       "      <td>NaN</td>\n",
       "    </tr>\n",
       "  </tbody>\n",
       "</table>\n",
       "<p>26173514 rows × 9 columns</p>\n",
       "</div>"
      ],
      "text/plain": [
       "                                  title  rank        date  \\\n",
       "0               Chantaje (feat. Maluma)     1  2017-01-01   \n",
       "1           Vente Pa' Ca (feat. Maluma)     2  2017-01-01   \n",
       "2            Reggaetón Lento (Bailemos)     3  2017-01-01   \n",
       "3                                Safari     4  2017-01-01   \n",
       "4                           Shaky Shaky     5  2017-01-01   \n",
       "...                                 ...   ...         ...   \n",
       "26173509                            BYE    46  2021-07-31   \n",
       "26173510                        Pillars    47  2021-07-31   \n",
       "26173511                   Gái Độc Thân    48  2021-07-31   \n",
       "26173512  Renegade (feat. Taylor Swift)    49  2021-07-31   \n",
       "26173513                Letter to Jarad    50  2021-07-31   \n",
       "\n",
       "                                         artist  \\\n",
       "0                                       Shakira   \n",
       "1                                  Ricky Martin   \n",
       "2                                          CNCO   \n",
       "3         J Balvin, Pharrell Williams, BIA, Sky   \n",
       "4                                  Daddy Yankee   \n",
       "...                                         ...   \n",
       "26173509                                  Jaden   \n",
       "26173510                                 My Anh   \n",
       "26173511                                  Tlinh   \n",
       "26173512                        Big Red Machine   \n",
       "26173513              LRN Slime, Shiloh Dynasty   \n",
       "\n",
       "                                                        url     region  \\\n",
       "0         https://open.spotify.com/track/6mICuAdrwEjh6Y6...  Argentina   \n",
       "1         https://open.spotify.com/track/7DM4BPaS7uofFul...  Argentina   \n",
       "2         https://open.spotify.com/track/3AEZUABDXNtecAO...  Argentina   \n",
       "3         https://open.spotify.com/track/6rQSrBHf7HlZjtc...  Argentina   \n",
       "4         https://open.spotify.com/track/58IL315gMSTD37D...  Argentina   \n",
       "...                                                     ...        ...   \n",
       "26173509  https://open.spotify.com/track/3OUyyDN7EZrL7i0...    Vietnam   \n",
       "26173510  https://open.spotify.com/track/6eky30oFiQbHUAT...    Vietnam   \n",
       "26173511  https://open.spotify.com/track/2klsSb2iTfgDh95...    Vietnam   \n",
       "26173512  https://open.spotify.com/track/1aU1wpYBSpP0M6I...    Vietnam   \n",
       "26173513  https://open.spotify.com/track/508QhA2SncMbh5C...    Vietnam   \n",
       "\n",
       "            chart          trend   streams  \n",
       "0          top200  SAME_POSITION  253019.0  \n",
       "1          top200        MOVE_UP  223988.0  \n",
       "2          top200      MOVE_DOWN  210943.0  \n",
       "3          top200  SAME_POSITION  173865.0  \n",
       "4          top200        MOVE_UP  153956.0  \n",
       "...           ...            ...       ...  \n",
       "26173509  viral50        MOVE_UP       NaN  \n",
       "26173510  viral50      NEW_ENTRY       NaN  \n",
       "26173511  viral50      MOVE_DOWN       NaN  \n",
       "26173512  viral50      MOVE_DOWN       NaN  \n",
       "26173513  viral50      MOVE_DOWN       NaN  \n",
       "\n",
       "[26173514 rows x 9 columns]"
      ]
     },
     "metadata": {},
     "output_type": "display_data"
    }
   ],
   "source": [
    "#Display heading to have a first look on the data, show 10 first rows\n",
    "display(charts)\n"
   ]
  },
  {
   "cell_type": "code",
   "execution_count": 6,
   "id": "e0291d42",
   "metadata": {
    "scrolled": true
   },
   "outputs": [
    {
     "name": "stdout",
     "output_type": "stream",
     "text": [
      "(26173514, 9)\n",
      "<class 'pandas.core.frame.DataFrame'>\n",
      "RangeIndex: 26173514 entries, 0 to 26173513\n",
      "Data columns (total 9 columns):\n",
      " #   Column   Dtype  \n",
      "---  ------   -----  \n",
      " 0   title    object \n",
      " 1   rank     int64  \n",
      " 2   date     object \n",
      " 3   artist   object \n",
      " 4   url      object \n",
      " 5   region   object \n",
      " 6   chart    object \n",
      " 7   trend    object \n",
      " 8   streams  float64\n",
      "dtypes: float64(1), int64(1), object(7)\n",
      "memory usage: 1.8+ GB\n",
      "None\n"
     ]
    }
   ],
   "source": [
    "print(charts.shape)\n",
    "print(charts.info())"
   ]
  },
  {
   "cell_type": "code",
   "execution_count": 7,
   "id": "b166d4d1",
   "metadata": {},
   "outputs": [
    {
     "data": {
      "text/plain": [
       "array(['title', 'rank', 'date', 'artist', 'url', 'region', 'chart',\n",
       "       'trend', 'streams'], dtype=object)"
      ]
     },
     "execution_count": 7,
     "metadata": {},
     "output_type": "execute_result"
    }
   ],
   "source": [
    "# check the columns labels and type.\n",
    "charts.columns.values"
   ]
  },
  {
   "cell_type": "code",
   "execution_count": 8,
   "id": "ca6a561a",
   "metadata": {},
   "outputs": [
    {
     "name": "stdout",
     "output_type": "stream",
     "text": [
      "<class 'pandas.core.frame.DataFrame'>\n",
      "RangeIndex: 26173514 entries, 0 to 26173513\n",
      "Data columns (total 9 columns):\n",
      " #   Column   Dtype  \n",
      "---  ------   -----  \n",
      " 0   title    object \n",
      " 1   rank     int64  \n",
      " 2   date     object \n",
      " 3   artist   object \n",
      " 4   url      object \n",
      " 5   region   object \n",
      " 6   chart    object \n",
      " 7   trend    object \n",
      " 8   streams  float64\n",
      "dtypes: float64(1), int64(1), object(7)\n",
      "memory usage: 1.8+ GB\n"
     ]
    }
   ],
   "source": [
    "charts.info()"
   ]
  },
  {
   "cell_type": "code",
   "execution_count": 9,
   "id": "2bc0b91a",
   "metadata": {},
   "outputs": [
    {
     "name": "stdout",
     "output_type": "stream",
     "text": [
      "<class 'pandas.core.frame.DataFrame'>\n",
      "RangeIndex: 26173514 entries, 0 to 26173513\n",
      "Data columns (total 9 columns):\n",
      " #   Column   Dtype  \n",
      "---  ------   -----  \n",
      " 0   title    object \n",
      " 1   rank     int64  \n",
      " 2   date     object \n",
      " 3   artist   object \n",
      " 4   url      object \n",
      " 5   region   object \n",
      " 6   chart    object \n",
      " 7   trend    object \n",
      " 8   streams  float64\n",
      "dtypes: float64(1), int64(1), object(7)\n",
      "memory usage: 1.8+ GB\n",
      "(26173514, 9)\n",
      "title           11\n",
      "rank             0\n",
      "date             0\n",
      "artist          18\n",
      "url              0\n",
      "region           0\n",
      "chart            0\n",
      "trend            0\n",
      "streams    5851610\n",
      "dtype: int64\n"
     ]
    }
   ],
   "source": [
    "#print summarised information from dataframe \n",
    "charts.info()\n",
    "print(charts.shape)\n",
    "print(charts.isnull().sum())"
   ]
  },
  {
   "cell_type": "code",
   "execution_count": 10,
   "id": "2cc92359",
   "metadata": {},
   "outputs": [
    {
     "data": {
      "text/plain": [
       "title      164806\n",
       "rank          200\n",
       "date         1826\n",
       "artist      96156\n",
       "url        217704\n",
       "region         70\n",
       "chart           2\n",
       "trend           4\n",
       "streams    788013\n",
       "dtype: int64"
      ]
     },
     "execution_count": 10,
     "metadata": {},
     "output_type": "execute_result"
    }
   ],
   "source": [
    "# calculate the number of unique values in each column.\n",
    "charts.nunique(axis = 0)"
   ]
  },
  {
   "cell_type": "code",
   "execution_count": 11,
   "id": "c9dc34f2",
   "metadata": {},
   "outputs": [
    {
     "data": {
      "text/plain": [
       "title           11\n",
       "rank             0\n",
       "date             0\n",
       "artist          18\n",
       "url              0\n",
       "region           0\n",
       "chart            0\n",
       "trend            0\n",
       "streams    5851610\n",
       "dtype: int64"
      ]
     },
     "execution_count": 11,
     "metadata": {},
     "output_type": "execute_result"
    }
   ],
   "source": [
    "# display sum of missing values\n",
    "charts.isnull().sum()"
   ]
  },
  {
   "cell_type": "code",
   "execution_count": 12,
   "id": "5c1945e9",
   "metadata": {},
   "outputs": [
    {
     "name": "stdout",
     "output_type": "stream",
     "text": [
      "70\n"
     ]
    }
   ],
   "source": [
    "charts['region'].unique()\n",
    "print(len(charts['region'].unique()))"
   ]
  },
  {
   "cell_type": "code",
   "execution_count": null,
   "id": "2b287256",
   "metadata": {},
   "outputs": [],
   "source": []
  },
  {
   "cell_type": "code",
   "execution_count": 13,
   "id": "858dfff8",
   "metadata": {},
   "outputs": [
    {
     "data": {
      "text/plain": [
       "array([253019., 223988., 210943., ..., 266561., 224771., 198200.])"
      ]
     },
     "execution_count": 13,
     "metadata": {},
     "output_type": "execute_result"
    }
   ],
   "source": [
    "charts['streams'].unique()"
   ]
  },
  {
   "cell_type": "code",
   "execution_count": 14,
   "id": "9708b32b",
   "metadata": {},
   "outputs": [
    {
     "data": {
      "text/plain": [
       "0           False\n",
       "1           False\n",
       "2           False\n",
       "3           False\n",
       "4           False\n",
       "            ...  \n",
       "26173509     True\n",
       "26173510     True\n",
       "26173511     True\n",
       "26173512     True\n",
       "26173513     True\n",
       "Name: streams, Length: 26173514, dtype: bool"
      ]
     },
     "execution_count": 14,
     "metadata": {},
     "output_type": "execute_result"
    }
   ],
   "source": [
    "charts['streams'].isnull()"
   ]
  },
  {
   "cell_type": "code",
   "execution_count": null,
   "id": "a3cdbb0c",
   "metadata": {},
   "outputs": [],
   "source": []
  },
  {
   "cell_type": "code",
   "execution_count": 15,
   "id": "dfdfd98a",
   "metadata": {},
   "outputs": [],
   "source": [
    "counts = charts['artist'].value_counts()"
   ]
  },
  {
   "cell_type": "code",
   "execution_count": 16,
   "id": "bd7cb946",
   "metadata": {},
   "outputs": [
    {
     "data": {
      "text/plain": [
       "Ed Sheeran         387917\n",
       "Billie Eilish      251825\n",
       "Post Malone        211272\n",
       "Bad Bunny          203403\n",
       "Ariana Grande      189914\n",
       "Dua Lipa           187085\n",
       "Drake              177380\n",
       "Imagine Dragons    157900\n",
       "XXXTENTACION       155458\n",
       "BTS                154338\n",
       "Name: artist, dtype: int64"
      ]
     },
     "execution_count": 16,
     "metadata": {},
     "output_type": "execute_result"
    }
   ],
   "source": [
    "counts.head(10)"
   ]
  },
  {
   "cell_type": "code",
   "execution_count": 17,
   "id": "a6425064",
   "metadata": {},
   "outputs": [],
   "source": [
    "# Filters the DataFrame to only include rows where the region is \"Ireland\".\\\n",
    "\n",
    "# Filter for the \"Ireland\" region\n",
    "charts_irl = charts[charts['region'] == 'Ireland']\n",
    "\n",
    "# Get the top 200 songs\n",
    "#top_200_ireland = ireland_data.head(200)\n",
    "\n",
    "# Save the filtered data to a new CSV file\n",
    "charts_irl.to_csv('charts_irl.csv', index=False)"
   ]
  },
  {
   "cell_type": "code",
   "execution_count": 22,
   "id": "55e10bff",
   "metadata": {},
   "outputs": [
    {
     "data": {
      "text/html": [
       "<div>\n",
       "<style scoped>\n",
       "    .dataframe tbody tr th:only-of-type {\n",
       "        vertical-align: middle;\n",
       "    }\n",
       "\n",
       "    .dataframe tbody tr th {\n",
       "        vertical-align: top;\n",
       "    }\n",
       "\n",
       "    .dataframe thead th {\n",
       "        text-align: right;\n",
       "    }\n",
       "</style>\n",
       "<table border=\"1\" class=\"dataframe\">\n",
       "  <thead>\n",
       "    <tr style=\"text-align: right;\">\n",
       "      <th></th>\n",
       "      <th>title</th>\n",
       "      <th>rank</th>\n",
       "      <th>date</th>\n",
       "      <th>artist</th>\n",
       "      <th>url</th>\n",
       "      <th>region</th>\n",
       "      <th>chart</th>\n",
       "      <th>trend</th>\n",
       "      <th>streams</th>\n",
       "    </tr>\n",
       "  </thead>\n",
       "  <tbody>\n",
       "    <tr>\n",
       "      <th>4225</th>\n",
       "      <td>Rockabye (feat. Sean Paul &amp; Anne-Marie)</td>\n",
       "      <td>1</td>\n",
       "      <td>2017-01-01</td>\n",
       "      <td>Clean Bandit</td>\n",
       "      <td>https://open.spotify.com/track/5knuzwU65gJK7IF...</td>\n",
       "      <td>Ireland</td>\n",
       "      <td>top200</td>\n",
       "      <td>SAME_POSITION</td>\n",
       "      <td>24914.0</td>\n",
       "    </tr>\n",
       "    <tr>\n",
       "      <th>4226</th>\n",
       "      <td>Starboy</td>\n",
       "      <td>2</td>\n",
       "      <td>2017-01-01</td>\n",
       "      <td>The Weeknd, Daft Punk</td>\n",
       "      <td>https://open.spotify.com/track/5aAx2yezTd8zXrk...</td>\n",
       "      <td>Ireland</td>\n",
       "      <td>top200</td>\n",
       "      <td>SAME_POSITION</td>\n",
       "      <td>20407.0</td>\n",
       "    </tr>\n",
       "    <tr>\n",
       "      <th>4227</th>\n",
       "      <td>Say You Won't Let Go</td>\n",
       "      <td>3</td>\n",
       "      <td>2017-01-01</td>\n",
       "      <td>James Arthur</td>\n",
       "      <td>https://open.spotify.com/track/5uCax9HTNlzGybI...</td>\n",
       "      <td>Ireland</td>\n",
       "      <td>top200</td>\n",
       "      <td>MOVE_UP</td>\n",
       "      <td>18749.0</td>\n",
       "    </tr>\n",
       "    <tr>\n",
       "      <th>4228</th>\n",
       "      <td>Sexual</td>\n",
       "      <td>4</td>\n",
       "      <td>2017-01-01</td>\n",
       "      <td>NEIKED, Dyo</td>\n",
       "      <td>https://open.spotify.com/track/3AsAuGTaDQzavZZ...</td>\n",
       "      <td>Ireland</td>\n",
       "      <td>top200</td>\n",
       "      <td>MOVE_DOWN</td>\n",
       "      <td>18662.0</td>\n",
       "    </tr>\n",
       "    <tr>\n",
       "      <th>4229</th>\n",
       "      <td>All Night</td>\n",
       "      <td>5</td>\n",
       "      <td>2017-01-01</td>\n",
       "      <td>The Vamps, Matoma</td>\n",
       "      <td>https://open.spotify.com/track/4b4KcovePX8Ke2c...</td>\n",
       "      <td>Ireland</td>\n",
       "      <td>top200</td>\n",
       "      <td>MOVE_DOWN</td>\n",
       "      <td>16781.0</td>\n",
       "    </tr>\n",
       "  </tbody>\n",
       "</table>\n",
       "</div>"
      ],
      "text/plain": [
       "                                        title  rank        date  \\\n",
       "4225  Rockabye (feat. Sean Paul & Anne-Marie)     1  2017-01-01   \n",
       "4226                                  Starboy     2  2017-01-01   \n",
       "4227                     Say You Won't Let Go     3  2017-01-01   \n",
       "4228                                   Sexual     4  2017-01-01   \n",
       "4229                                All Night     5  2017-01-01   \n",
       "\n",
       "                     artist  \\\n",
       "4225           Clean Bandit   \n",
       "4226  The Weeknd, Daft Punk   \n",
       "4227           James Arthur   \n",
       "4228            NEIKED, Dyo   \n",
       "4229      The Vamps, Matoma   \n",
       "\n",
       "                                                    url   region   chart  \\\n",
       "4225  https://open.spotify.com/track/5knuzwU65gJK7IF...  Ireland  top200   \n",
       "4226  https://open.spotify.com/track/5aAx2yezTd8zXrk...  Ireland  top200   \n",
       "4227  https://open.spotify.com/track/5uCax9HTNlzGybI...  Ireland  top200   \n",
       "4228  https://open.spotify.com/track/3AsAuGTaDQzavZZ...  Ireland  top200   \n",
       "4229  https://open.spotify.com/track/4b4KcovePX8Ke2c...  Ireland  top200   \n",
       "\n",
       "              trend  streams  \n",
       "4225  SAME_POSITION  24914.0  \n",
       "4226  SAME_POSITION  20407.0  \n",
       "4227        MOVE_UP  18749.0  \n",
       "4228      MOVE_DOWN  18662.0  \n",
       "4229      MOVE_DOWN  16781.0  "
      ]
     },
     "execution_count": 22,
     "metadata": {},
     "output_type": "execute_result"
    }
   ],
   "source": [
    "charts_irl.head()"
   ]
  },
  {
   "cell_type": "code",
   "execution_count": 19,
   "id": "2e5ebe20",
   "metadata": {
    "scrolled": true
   },
   "outputs": [
    {
     "name": "stdout",
     "output_type": "stream",
     "text": [
      "<class 'pandas.core.frame.DataFrame'>\n",
      "Int64Index: 449311 entries, 4225 to 26171619\n",
      "Data columns (total 9 columns):\n",
      " #   Column   Non-Null Count   Dtype  \n",
      "---  ------   --------------   -----  \n",
      " 0   title    449311 non-null  object \n",
      " 1   rank     449311 non-null  int64  \n",
      " 2   date     449311 non-null  object \n",
      " 3   artist   449311 non-null  object \n",
      " 4   url      449311 non-null  object \n",
      " 5   region   449311 non-null  object \n",
      " 6   chart    449311 non-null  object \n",
      " 7   trend    449311 non-null  object \n",
      " 8   streams  358390 non-null  float64\n",
      "dtypes: float64(1), int64(1), object(7)\n",
      "memory usage: 34.3+ MB\n"
     ]
    }
   ],
   "source": [
    "charts_irl.info()"
   ]
  },
  {
   "cell_type": "code",
   "execution_count": 20,
   "id": "f8e290c7",
   "metadata": {},
   "outputs": [
    {
     "name": "stdout",
     "output_type": "stream",
     "text": [
      "(449311, 9)\n",
      "title          0\n",
      "rank           0\n",
      "date           0\n",
      "artist         0\n",
      "url            0\n",
      "region         0\n",
      "chart          0\n",
      "trend          0\n",
      "streams    90921\n",
      "dtype: int64\n"
     ]
    }
   ],
   "source": [
    "#print summarised information from dataframe \n",
    "\n",
    "print(charts_irl.shape)\n",
    "print(charts_irl.isnull().sum())"
   ]
  },
  {
   "cell_type": "markdown",
   "id": "5f7eed46",
   "metadata": {},
   "source": [
    "## Extracting one song from main dataset for application of Neural Network\n"
   ]
  },
  {
   "cell_type": "code",
   "execution_count": 24,
   "id": "ae5392b6",
   "metadata": {},
   "outputs": [
    {
     "name": "stdout",
     "output_type": "stream",
     "text": [
      "<class 'pandas.core.frame.DataFrame'>\n",
      "DatetimeIndex: 1349 entries, 2017-01-01 to 2018-01-31\n",
      "Data columns (total 5 columns):\n",
      " #   Column   Non-Null Count  Dtype  \n",
      "---  ------   --------------  -----  \n",
      " 0   title    1349 non-null   object \n",
      " 1   rank     1349 non-null   int64  \n",
      " 2   region   1349 non-null   object \n",
      " 3   chart    1349 non-null   object \n",
      " 4   streams  1349 non-null   float64\n",
      "dtypes: float64(1), int64(1), object(3)\n",
      "memory usage: 63.2+ KB\n",
      "None\n"
     ]
    },
    {
     "data": {
      "text/html": [
       "<div>\n",
       "<style scoped>\n",
       "    .dataframe tbody tr th:only-of-type {\n",
       "        vertical-align: middle;\n",
       "    }\n",
       "\n",
       "    .dataframe tbody tr th {\n",
       "        vertical-align: top;\n",
       "    }\n",
       "\n",
       "    .dataframe thead th {\n",
       "        text-align: right;\n",
       "    }\n",
       "</style>\n",
       "<table border=\"1\" class=\"dataframe\">\n",
       "  <thead>\n",
       "    <tr style=\"text-align: right;\">\n",
       "      <th></th>\n",
       "      <th>title</th>\n",
       "      <th>rank</th>\n",
       "      <th>region</th>\n",
       "      <th>chart</th>\n",
       "      <th>streams</th>\n",
       "    </tr>\n",
       "    <tr>\n",
       "      <th>date</th>\n",
       "      <th></th>\n",
       "      <th></th>\n",
       "      <th></th>\n",
       "      <th></th>\n",
       "      <th></th>\n",
       "    </tr>\n",
       "  </thead>\n",
       "  <tbody>\n",
       "    <tr>\n",
       "      <th>2017-01-01</th>\n",
       "      <td>Africa</td>\n",
       "      <td>137</td>\n",
       "      <td>Ireland</td>\n",
       "      <td>top200</td>\n",
       "      <td>2526.0</td>\n",
       "    </tr>\n",
       "    <tr>\n",
       "      <th>2018-03-01</th>\n",
       "      <td>Africa</td>\n",
       "      <td>97</td>\n",
       "      <td>Ireland</td>\n",
       "      <td>top200</td>\n",
       "      <td>4720.0</td>\n",
       "    </tr>\n",
       "    <tr>\n",
       "      <th>2018-03-02</th>\n",
       "      <td>Africa</td>\n",
       "      <td>87</td>\n",
       "      <td>Ireland</td>\n",
       "      <td>top200</td>\n",
       "      <td>4741.0</td>\n",
       "    </tr>\n",
       "    <tr>\n",
       "      <th>2018-02-01</th>\n",
       "      <td>Africa</td>\n",
       "      <td>125</td>\n",
       "      <td>Ireland</td>\n",
       "      <td>top200</td>\n",
       "      <td>5269.0</td>\n",
       "    </tr>\n",
       "    <tr>\n",
       "      <th>2020-05-01</th>\n",
       "      <td>Africa</td>\n",
       "      <td>173</td>\n",
       "      <td>Ireland</td>\n",
       "      <td>top200</td>\n",
       "      <td>5989.0</td>\n",
       "    </tr>\n",
       "  </tbody>\n",
       "</table>\n",
       "</div>"
      ],
      "text/plain": [
       "             title  rank   region   chart  streams\n",
       "date                                              \n",
       "2017-01-01  Africa   137  Ireland  top200   2526.0\n",
       "2018-03-01  Africa    97  Ireland  top200   4720.0\n",
       "2018-03-02  Africa    87  Ireland  top200   4741.0\n",
       "2018-02-01  Africa   125  Ireland  top200   5269.0\n",
       "2020-05-01  Africa   173  Ireland  top200   5989.0"
      ]
     },
     "execution_count": 24,
     "metadata": {},
     "output_type": "execute_result"
    }
   ],
   "source": [
    "# Set 'date' column as the index\n",
    "charts['date'] = pd.to_datetime(charts['date'])  # Convert 'date' column to datetime format\n",
    "charts.set_index('date', inplace=True)\n",
    "\n",
    "# Filter the DataFrame for Ireland, top200 chart\n",
    "africa_df = charts[(charts['region'] == 'Ireland') & (charts['chart'] == 'top200') & (charts['title']=='Africa')]\n",
    "\n",
    "# Drop the columns 'url', 'trend', and 'artist'\n",
    "africa_df = africa_df.drop(columns=['url', 'trend', 'artist'])\n",
    "\n",
    "\n",
    "print(africa_df.info())\n",
    "africa_df.head()"
   ]
  },
  {
   "cell_type": "markdown",
   "id": "f7c67f5f",
   "metadata": {},
   "source": [
    "# Splitting dataset beween train/test\n",
    "\n",
    "Once the africa dataset was retrieved, with no missing values spotted and all datatypes are correct, we can start the process for building the model by selecting the numeric features for the traing, starting with 80% and separating 20% for testing. given the size of the dataset being relatively smaller than the original, it may be necessaty to re-acess this decision remodeling the training for 70% and 30% for testing.\n",
    "\n",
    "It's also importanto to apply a stardard scaler to standardise values between 0 and 1 to assit the neural network learn more effectively.\n"
   ]
  },
  {
   "cell_type": "code",
   "execution_count": 25,
   "id": "9732e4ec",
   "metadata": {},
   "outputs": [],
   "source": [
    "from sklearn.model_selection import train_test_split\n",
    "from sklearn.preprocessing import StandardScaler\n",
    "\n",
    "# Select features for independent and dependent variables\n",
    "X = africa_df[['rank', 'streams']]  # Features\n",
    "y = africa_df['rank']  # Target variable\n",
    "\n",
    "# Splitting the data into 80% training and 20% testing\n",
    "X_train, X_test, y_train, y_test = train_test_split(X, y, test_size=0.2, random_state=42)\n",
    "\n",
    "# Scale the features\n",
    "sc = StandardScaler()\n",
    "X_train = sc.fit_transform(X_train)\n",
    "X_test = sc.transform(X_test)"
   ]
  },
  {
   "cell_type": "markdown",
   "id": "743c8fb5",
   "metadata": {},
   "source": [
    "## Feature Encoding\n",
    "\n",
    "Using label encoder for categorical feature 'title'  "
   ]
  },
  {
   "cell_type": "code",
   "execution_count": 28,
   "id": "28c07ea4",
   "metadata": {},
   "outputs": [
    {
     "data": {
      "text/html": [
       "<div>\n",
       "<style scoped>\n",
       "    .dataframe tbody tr th:only-of-type {\n",
       "        vertical-align: middle;\n",
       "    }\n",
       "\n",
       "    .dataframe tbody tr th {\n",
       "        vertical-align: top;\n",
       "    }\n",
       "\n",
       "    .dataframe thead th {\n",
       "        text-align: right;\n",
       "    }\n",
       "</style>\n",
       "<table border=\"1\" class=\"dataframe\">\n",
       "  <thead>\n",
       "    <tr style=\"text-align: right;\">\n",
       "      <th></th>\n",
       "      <th>title</th>\n",
       "      <th>rank</th>\n",
       "      <th>region</th>\n",
       "      <th>chart</th>\n",
       "      <th>streams</th>\n",
       "      <th>title_encoded</th>\n",
       "    </tr>\n",
       "    <tr>\n",
       "      <th>date</th>\n",
       "      <th></th>\n",
       "      <th></th>\n",
       "      <th></th>\n",
       "      <th></th>\n",
       "      <th></th>\n",
       "      <th></th>\n",
       "    </tr>\n",
       "  </thead>\n",
       "  <tbody>\n",
       "    <tr>\n",
       "      <th>2017-01-01</th>\n",
       "      <td>Africa</td>\n",
       "      <td>137</td>\n",
       "      <td>Ireland</td>\n",
       "      <td>top200</td>\n",
       "      <td>2526.0</td>\n",
       "      <td>0</td>\n",
       "    </tr>\n",
       "    <tr>\n",
       "      <th>2018-03-01</th>\n",
       "      <td>Africa</td>\n",
       "      <td>97</td>\n",
       "      <td>Ireland</td>\n",
       "      <td>top200</td>\n",
       "      <td>4720.0</td>\n",
       "      <td>0</td>\n",
       "    </tr>\n",
       "    <tr>\n",
       "      <th>2018-03-02</th>\n",
       "      <td>Africa</td>\n",
       "      <td>87</td>\n",
       "      <td>Ireland</td>\n",
       "      <td>top200</td>\n",
       "      <td>4741.0</td>\n",
       "      <td>0</td>\n",
       "    </tr>\n",
       "    <tr>\n",
       "      <th>2018-02-01</th>\n",
       "      <td>Africa</td>\n",
       "      <td>125</td>\n",
       "      <td>Ireland</td>\n",
       "      <td>top200</td>\n",
       "      <td>5269.0</td>\n",
       "      <td>0</td>\n",
       "    </tr>\n",
       "    <tr>\n",
       "      <th>2020-05-01</th>\n",
       "      <td>Africa</td>\n",
       "      <td>173</td>\n",
       "      <td>Ireland</td>\n",
       "      <td>top200</td>\n",
       "      <td>5989.0</td>\n",
       "      <td>0</td>\n",
       "    </tr>\n",
       "  </tbody>\n",
       "</table>\n",
       "</div>"
      ],
      "text/plain": [
       "             title  rank   region   chart  streams  title_encoded\n",
       "date                                                             \n",
       "2017-01-01  Africa   137  Ireland  top200   2526.0              0\n",
       "2018-03-01  Africa    97  Ireland  top200   4720.0              0\n",
       "2018-03-02  Africa    87  Ireland  top200   4741.0              0\n",
       "2018-02-01  Africa   125  Ireland  top200   5269.0              0\n",
       "2020-05-01  Africa   173  Ireland  top200   5989.0              0"
      ]
     },
     "execution_count": 28,
     "metadata": {},
     "output_type": "execute_result"
    }
   ],
   "source": [
    "# Import library required for label enmcoder\n",
    "\n",
    "from sklearn.preprocessing import LabelEncoder\n",
    "\n",
    "#adding encoded label to dataset in a new column\n",
    "\n",
    "label_encoder = LabelEncoder()\n",
    "africa_df['title_encoded'] = label_encoder.fit_transform(africa_df['title'])\n",
    "\n",
    "africa_df.head()\n",
    "\n",
    "    # Africa = 0 "
   ]
  },
  {
   "cell_type": "markdown",
   "id": "c82a46d0",
   "metadata": {},
   "source": [
    "# Using a basic architechture for building a Neural Network\n",
    "\n"
   ]
  },
  {
   "cell_type": "code",
   "execution_count": 29,
   "id": "b3d1d915",
   "metadata": {},
   "outputs": [],
   "source": [
    "from keras.models import Sequential\n",
    "from keras.layers import Dense\n",
    "\n",
    "# Create a Sequential model\n",
    "model = Sequential()\n",
    "\n",
    "# Input Layer: Number of neurons = number of features\n",
    "model.add(Dense(units=2, input_dim=2, activation='relu'))  # Assuming 2 features\n",
    "\n",
    "# Hidden Layers: Experiment with different numbers of layers and neurons per layer.\n",
    "model.add(Dense(units=4, activation='relu'))\n",
    "model.add(Dense(units=4, activation='relu'))\n",
    "\n",
    "# Output Layer: Number of neurons = 1 (since you're predicting one value).\n",
    "model.add(Dense(units=1, activation='linear'))  # Linear activation for regression"
   ]
  },
  {
   "cell_type": "markdown",
   "id": "788e2c62",
   "metadata": {},
   "source": [
    "### Compiling the model"
   ]
  },
  {
   "cell_type": "code",
   "execution_count": 30,
   "id": "a561896d",
   "metadata": {},
   "outputs": [],
   "source": [
    "# Choose a loss function (mean squared error is common for regression tasks),\n",
    "# an optimizer (e.g., Adam), and any metrics you want to track.\n",
    "model.compile(optimizer='adam', loss='mean_squared_error', metrics=['mae'])"
   ]
  },
  {
   "cell_type": "markdown",
   "id": "20ddc5a1",
   "metadata": {},
   "source": [
    "### Training the model "
   ]
  },
  {
   "cell_type": "code",
   "execution_count": 44,
   "id": "5f1c19c2",
   "metadata": {},
   "outputs": [
    {
     "name": "stdout",
     "output_type": "stream",
     "text": [
      "Epoch 1/100\n",
      "27/27 [==============================] - 0s 1ms/step - loss: 2.8113 - mae: 0.6009 - val_loss: 4.0217 - val_mae: 0.4147\n",
      "Epoch 2/100\n",
      "27/27 [==============================] - 0s 970us/step - loss: 1.7479 - mae: 0.3703 - val_loss: 3.0180 - val_mae: 0.3954\n",
      "Epoch 3/100\n",
      "27/27 [==============================] - 0s 966us/step - loss: 1.0939 - mae: 0.2955 - val_loss: 2.2577 - val_mae: 0.3093\n",
      "Epoch 4/100\n",
      "27/27 [==============================] - 0s 858us/step - loss: 0.6627 - mae: 0.2036 - val_loss: 1.8637 - val_mae: 0.2973\n",
      "Epoch 5/100\n",
      "27/27 [==============================] - 0s 867us/step - loss: 0.4640 - mae: 0.1905 - val_loss: 1.4770 - val_mae: 0.1443\n",
      "Epoch 6/100\n",
      "27/27 [==============================] - 0s 892us/step - loss: 0.2907 - mae: 0.1347 - val_loss: 1.2497 - val_mae: 0.1475\n",
      "Epoch 7/100\n",
      "27/27 [==============================] - 0s 840us/step - loss: 0.1971 - mae: 0.1078 - val_loss: 1.0789 - val_mae: 0.1263\n",
      "Epoch 8/100\n",
      "27/27 [==============================] - 0s 833us/step - loss: 0.1337 - mae: 0.0730 - val_loss: 0.9662 - val_mae: 0.1428\n",
      "Epoch 9/100\n",
      "27/27 [==============================] - 0s 822us/step - loss: 0.1025 - mae: 0.0704 - val_loss: 0.8559 - val_mae: 0.0891\n",
      "Epoch 10/100\n",
      "27/27 [==============================] - 0s 807us/step - loss: 0.0723 - mae: 0.0471 - val_loss: 0.7719 - val_mae: 0.0833\n",
      "Epoch 11/100\n",
      "27/27 [==============================] - 0s 871us/step - loss: 0.0545 - mae: 0.0392 - val_loss: 0.6990 - val_mae: 0.0751\n",
      "Epoch 12/100\n",
      "27/27 [==============================] - 0s 802us/step - loss: 0.0413 - mae: 0.0415 - val_loss: 0.6436 - val_mae: 0.0945\n",
      "Epoch 13/100\n",
      "27/27 [==============================] - 0s 860us/step - loss: 0.0313 - mae: 0.0372 - val_loss: 0.5931 - val_mae: 0.0780\n",
      "Epoch 14/100\n",
      "27/27 [==============================] - 0s 811us/step - loss: 0.0234 - mae: 0.0252 - val_loss: 0.5583 - val_mae: 0.0831\n",
      "Epoch 15/100\n",
      "27/27 [==============================] - 0s 810us/step - loss: 0.0192 - mae: 0.0224 - val_loss: 0.5242 - val_mae: 0.0685\n",
      "Epoch 16/100\n",
      "27/27 [==============================] - 0s 832us/step - loss: 0.0151 - mae: 0.0154 - val_loss: 0.5066 - val_mae: 0.0866\n",
      "Epoch 17/100\n",
      "27/27 [==============================] - 0s 795us/step - loss: 0.0128 - mae: 0.0224 - val_loss: 0.4793 - val_mae: 0.0762\n",
      "Epoch 18/100\n",
      "27/27 [==============================] - 0s 821us/step - loss: 0.0104 - mae: 0.0171 - val_loss: 0.4594 - val_mae: 0.0780\n",
      "Epoch 19/100\n",
      "27/27 [==============================] - 0s 805us/step - loss: 0.0086 - mae: 0.0210 - val_loss: 0.4379 - val_mae: 0.0663\n",
      "Epoch 20/100\n",
      "27/27 [==============================] - 0s 795us/step - loss: 0.0070 - mae: 0.0213 - val_loss: 0.4167 - val_mae: 0.0695\n",
      "Epoch 21/100\n",
      "27/27 [==============================] - 0s 818us/step - loss: 0.0054 - mae: 0.0126 - val_loss: 0.4015 - val_mae: 0.0528\n",
      "Epoch 22/100\n",
      "27/27 [==============================] - 0s 807us/step - loss: 0.0043 - mae: 0.0114 - val_loss: 0.3871 - val_mae: 0.0514\n",
      "Epoch 23/100\n",
      "27/27 [==============================] - 0s 789us/step - loss: 0.0035 - mae: 0.0103 - val_loss: 0.3762 - val_mae: 0.0570\n",
      "Epoch 24/100\n",
      "27/27 [==============================] - 0s 821us/step - loss: 0.0029 - mae: 0.0101 - val_loss: 0.3623 - val_mae: 0.0555\n",
      "Epoch 25/100\n",
      "27/27 [==============================] - 0s 814us/step - loss: 0.0022 - mae: 0.0071 - val_loss: 0.3522 - val_mae: 0.0518\n",
      "Epoch 26/100\n",
      "27/27 [==============================] - 0s 785us/step - loss: 0.0018 - mae: 0.0097 - val_loss: 0.3436 - val_mae: 0.0552\n",
      "Epoch 27/100\n",
      "27/27 [==============================] - 0s 870us/step - loss: 0.0014 - mae: 0.0077 - val_loss: 0.3360 - val_mae: 0.0474\n",
      "Epoch 28/100\n",
      "27/27 [==============================] - 0s 1ms/step - loss: 0.0011 - mae: 0.0041 - val_loss: 0.3295 - val_mae: 0.0509\n",
      "Epoch 29/100\n",
      "27/27 [==============================] - 0s 810us/step - loss: 8.8862e-04 - mae: 0.0071 - val_loss: 0.3230 - val_mae: 0.0476\n",
      "Epoch 30/100\n",
      "27/27 [==============================] - 0s 808us/step - loss: 6.8744e-04 - mae: 0.0050 - val_loss: 0.3173 - val_mae: 0.0466\n",
      "Epoch 31/100\n",
      "27/27 [==============================] - 0s 783us/step - loss: 5.6890e-04 - mae: 0.0054 - val_loss: 0.3123 - val_mae: 0.0437\n",
      "Epoch 32/100\n",
      "27/27 [==============================] - 0s 833us/step - loss: 4.7401e-04 - mae: 0.0039 - val_loss: 0.3070 - val_mae: 0.0429\n",
      "Epoch 33/100\n",
      "27/27 [==============================] - 0s 783us/step - loss: 3.7790e-04 - mae: 0.0029 - val_loss: 0.3036 - val_mae: 0.0427\n",
      "Epoch 34/100\n",
      "27/27 [==============================] - 0s 893us/step - loss: 3.1874e-04 - mae: 0.0019 - val_loss: 0.3017 - val_mae: 0.0453\n",
      "Epoch 35/100\n",
      "27/27 [==============================] - 0s 754us/step - loss: 2.9269e-04 - mae: 0.0028 - val_loss: 0.2979 - val_mae: 0.0423\n",
      "Epoch 36/100\n",
      "27/27 [==============================] - 0s 839us/step - loss: 2.4936e-04 - mae: 0.0025 - val_loss: 0.2959 - val_mae: 0.0427\n",
      "Epoch 37/100\n",
      "27/27 [==============================] - 0s 833us/step - loss: 2.3897e-04 - mae: 0.0036 - val_loss: 0.2933 - val_mae: 0.0428\n",
      "Epoch 38/100\n",
      "27/27 [==============================] - 0s 771us/step - loss: 1.9698e-04 - mae: 0.0021 - val_loss: 0.2913 - val_mae: 0.0418\n",
      "Epoch 39/100\n",
      "27/27 [==============================] - 0s 778us/step - loss: 1.8025e-04 - mae: 0.0023 - val_loss: 0.2893 - val_mae: 0.0408\n",
      "Epoch 40/100\n",
      "27/27 [==============================] - 0s 814us/step - loss: 1.5831e-04 - mae: 0.0018 - val_loss: 0.2872 - val_mae: 0.0410\n",
      "Epoch 41/100\n",
      "27/27 [==============================] - 0s 777us/step - loss: 1.4212e-04 - mae: 0.0019 - val_loss: 0.2853 - val_mae: 0.0415\n",
      "Epoch 42/100\n",
      "27/27 [==============================] - 0s 784us/step - loss: 1.2304e-04 - mae: 0.0011 - val_loss: 0.2846 - val_mae: 0.0436\n",
      "Epoch 43/100\n",
      "27/27 [==============================] - 0s 838us/step - loss: 1.2249e-04 - mae: 0.0025 - val_loss: 0.2820 - val_mae: 0.0403\n",
      "Epoch 44/100\n",
      "27/27 [==============================] - 0s 787us/step - loss: 1.0059e-04 - mae: 0.0019 - val_loss: 0.2803 - val_mae: 0.0398\n",
      "Epoch 45/100\n",
      "27/27 [==============================] - 0s 776us/step - loss: 8.5021e-05 - mae: 9.8097e-04 - val_loss: 0.2795 - val_mae: 0.0411\n",
      "Epoch 46/100\n",
      "27/27 [==============================] - 0s 805us/step - loss: 8.3373e-05 - mae: 0.0017 - val_loss: 0.2773 - val_mae: 0.0398\n",
      "Epoch 47/100\n",
      "27/27 [==============================] - 0s 799us/step - loss: 6.6660e-05 - mae: 0.0013 - val_loss: 0.2764 - val_mae: 0.0400\n",
      "Epoch 48/100\n",
      "27/27 [==============================] - 0s 774us/step - loss: 6.0780e-05 - mae: 8.6812e-04 - val_loss: 0.2745 - val_mae: 0.0391\n",
      "Epoch 49/100\n",
      "27/27 [==============================] - 0s 836us/step - loss: 4.9787e-05 - mae: 6.5543e-04 - val_loss: 0.2739 - val_mae: 0.0406\n",
      "Epoch 50/100\n",
      "27/27 [==============================] - 0s 831us/step - loss: 4.5868e-05 - mae: 0.0015 - val_loss: 0.2725 - val_mae: 0.0402\n",
      "Epoch 51/100\n",
      "27/27 [==============================] - 0s 834us/step - loss: 3.9530e-05 - mae: 0.0013 - val_loss: 0.2714 - val_mae: 0.0397\n",
      "Epoch 52/100\n",
      "27/27 [==============================] - 0s 778us/step - loss: 3.4879e-05 - mae: 0.0014 - val_loss: 0.2700 - val_mae: 0.0387\n",
      "Epoch 53/100\n",
      "27/27 [==============================] - 0s 792us/step - loss: 2.9017e-05 - mae: 9.0452e-04 - val_loss: 0.2689 - val_mae: 0.0381\n",
      "Epoch 54/100\n",
      "27/27 [==============================] - 0s 828us/step - loss: 2.4676e-05 - mae: 7.9719e-04 - val_loss: 0.2681 - val_mae: 0.0385\n",
      "Epoch 55/100\n",
      "27/27 [==============================] - 0s 809us/step - loss: 2.1259e-05 - mae: 7.2378e-04 - val_loss: 0.2675 - val_mae: 0.0382\n",
      "Epoch 56/100\n",
      "27/27 [==============================] - 0s 901us/step - loss: 1.8783e-05 - mae: 8.6438e-04 - val_loss: 0.2665 - val_mae: 0.0382\n",
      "Epoch 57/100\n",
      "27/27 [==============================] - 0s 808us/step - loss: 1.5486e-05 - mae: 6.1981e-04 - val_loss: 0.2658 - val_mae: 0.0379\n",
      "Epoch 58/100\n",
      "27/27 [==============================] - 0s 791us/step - loss: 1.3735e-05 - mae: 7.7909e-04 - val_loss: 0.2650 - val_mae: 0.0383\n",
      "Epoch 59/100\n",
      "27/27 [==============================] - 0s 831us/step - loss: 1.2088e-05 - mae: 9.4540e-04 - val_loss: 0.2641 - val_mae: 0.0380\n",
      "Epoch 60/100\n",
      "27/27 [==============================] - 0s 792us/step - loss: 9.7098e-06 - mae: 7.1790e-04 - val_loss: 0.2635 - val_mae: 0.0378\n"
     ]
    },
    {
     "name": "stdout",
     "output_type": "stream",
     "text": [
      "Epoch 61/100\n",
      "27/27 [==============================] - 0s 771us/step - loss: 8.3751e-06 - mae: 6.5786e-04 - val_loss: 0.2629 - val_mae: 0.0380\n",
      "Epoch 62/100\n",
      "27/27 [==============================] - 0s 765us/step - loss: 6.8374e-06 - mae: 5.2840e-04 - val_loss: 0.2624 - val_mae: 0.0377\n",
      "Epoch 63/100\n",
      "27/27 [==============================] - 0s 754us/step - loss: 5.5721e-06 - mae: 3.1602e-04 - val_loss: 0.2621 - val_mae: 0.0380\n",
      "Epoch 64/100\n",
      "27/27 [==============================] - 0s 763us/step - loss: 5.0286e-06 - mae: 5.4571e-04 - val_loss: 0.2615 - val_mae: 0.0375\n",
      "Epoch 65/100\n",
      "27/27 [==============================] - 0s 821us/step - loss: 3.8647e-06 - mae: 2.4318e-04 - val_loss: 0.2611 - val_mae: 0.0378\n",
      "Epoch 66/100\n",
      "27/27 [==============================] - 0s 782us/step - loss: 3.6316e-06 - mae: 5.8623e-04 - val_loss: 0.2606 - val_mae: 0.0376\n",
      "Epoch 67/100\n",
      "27/27 [==============================] - 0s 735us/step - loss: 3.0000e-06 - mae: 4.6665e-04 - val_loss: 0.2601 - val_mae: 0.0374\n",
      "Epoch 68/100\n",
      "27/27 [==============================] - 0s 791us/step - loss: 2.3662e-06 - mae: 4.1886e-04 - val_loss: 0.2597 - val_mae: 0.0373\n",
      "Epoch 69/100\n",
      "27/27 [==============================] - 0s 790us/step - loss: 1.9106e-06 - mae: 3.5783e-04 - val_loss: 0.2594 - val_mae: 0.0373\n",
      "Epoch 70/100\n",
      "27/27 [==============================] - 0s 800us/step - loss: 1.6224e-06 - mae: 3.5765e-04 - val_loss: 0.2591 - val_mae: 0.0372\n",
      "Epoch 71/100\n",
      "27/27 [==============================] - 0s 805us/step - loss: 1.3200e-06 - mae: 3.0387e-04 - val_loss: 0.2588 - val_mae: 0.0371\n",
      "Epoch 72/100\n",
      "27/27 [==============================] - 0s 757us/step - loss: 1.0093e-06 - mae: 1.8114e-04 - val_loss: 0.2587 - val_mae: 0.0373\n",
      "Epoch 73/100\n",
      "27/27 [==============================] - 0s 799us/step - loss: 8.8674e-07 - mae: 2.5405e-04 - val_loss: 0.2584 - val_mae: 0.0371\n",
      "Epoch 74/100\n",
      "27/27 [==============================] - 0s 814us/step - loss: 7.6980e-07 - mae: 2.6507e-04 - val_loss: 0.2581 - val_mae: 0.0369\n",
      "Epoch 75/100\n",
      "27/27 [==============================] - 0s 759us/step - loss: 5.3821e-07 - mae: 1.5603e-04 - val_loss: 0.2580 - val_mae: 0.0369\n",
      "Epoch 76/100\n",
      "27/27 [==============================] - 0s 791us/step - loss: 4.2499e-07 - mae: 1.0056e-04 - val_loss: 0.2578 - val_mae: 0.0370\n",
      "Epoch 77/100\n",
      "27/27 [==============================] - 0s 800us/step - loss: 3.5287e-07 - mae: 1.4875e-04 - val_loss: 0.2577 - val_mae: 0.0370\n",
      "Epoch 78/100\n",
      "27/27 [==============================] - 0s 751us/step - loss: 2.6802e-07 - mae: 7.5967e-05 - val_loss: 0.2576 - val_mae: 0.0370\n",
      "Epoch 79/100\n",
      "27/27 [==============================] - 0s 824us/step - loss: 2.5424e-07 - mae: 1.6805e-04 - val_loss: 0.2574 - val_mae: 0.0368\n",
      "Epoch 80/100\n",
      "27/27 [==============================] - 0s 881us/step - loss: 1.9960e-07 - mae: 1.3959e-04 - val_loss: 0.2572 - val_mae: 0.0368\n",
      "Epoch 81/100\n",
      "27/27 [==============================] - 0s 890us/step - loss: 1.2987e-07 - mae: 6.2945e-05 - val_loss: 0.2572 - val_mae: 0.0369\n",
      "Epoch 82/100\n",
      "27/27 [==============================] - 0s 848us/step - loss: 1.2626e-07 - mae: 1.0320e-04 - val_loss: 0.2570 - val_mae: 0.0367\n",
      "Epoch 83/100\n",
      "27/27 [==============================] - 0s 853us/step - loss: 7.9858e-08 - mae: 4.3610e-05 - val_loss: 0.2570 - val_mae: 0.0367\n",
      "Epoch 84/100\n",
      "27/27 [==============================] - 0s 779us/step - loss: 6.4816e-08 - mae: 5.8684e-05 - val_loss: 0.2569 - val_mae: 0.0367\n",
      "Epoch 85/100\n",
      "27/27 [==============================] - 0s 825us/step - loss: 5.5613e-08 - mae: 4.2276e-05 - val_loss: 0.2568 - val_mae: 0.0367\n",
      "Epoch 86/100\n",
      "27/27 [==============================] - 0s 866us/step - loss: 3.8331e-08 - mae: 4.6864e-05 - val_loss: 0.2567 - val_mae: 0.0367\n",
      "Epoch 87/100\n",
      "27/27 [==============================] - 0s 811us/step - loss: 3.1126e-08 - mae: 5.3017e-05 - val_loss: 0.2567 - val_mae: 0.0367\n",
      "Epoch 88/100\n",
      "27/27 [==============================] - 0s 913us/step - loss: 2.3241e-08 - mae: 3.7148e-05 - val_loss: 0.2566 - val_mae: 0.0366\n",
      "Epoch 89/100\n",
      "27/27 [==============================] - 0s 829us/step - loss: 1.7170e-08 - mae: 3.4089e-05 - val_loss: 0.2566 - val_mae: 0.0367\n",
      "Epoch 90/100\n",
      "27/27 [==============================] - 0s 836us/step - loss: 1.4107e-08 - mae: 3.6556e-05 - val_loss: 0.2566 - val_mae: 0.0367\n",
      "Epoch 91/100\n",
      "27/27 [==============================] - 0s 834us/step - loss: 1.1677e-08 - mae: 4.3221e-05 - val_loss: 0.2565 - val_mae: 0.0366\n",
      "Epoch 92/100\n",
      "27/27 [==============================] - 0s 895us/step - loss: 9.6004e-09 - mae: 4.2169e-05 - val_loss: 0.2565 - val_mae: 0.0366\n",
      "Epoch 93/100\n",
      "27/27 [==============================] - 0s 925us/step - loss: 7.2832e-09 - mae: 3.9836e-05 - val_loss: 0.2565 - val_mae: 0.0366\n",
      "Epoch 94/100\n",
      "27/27 [==============================] - 0s 899us/step - loss: 4.8706e-09 - mae: 2.8520e-05 - val_loss: 0.2565 - val_mae: 0.0366\n",
      "Epoch 95/100\n",
      "27/27 [==============================] - 0s 917us/step - loss: 3.3530e-09 - mae: 1.8026e-05 - val_loss: 0.2564 - val_mae: 0.0366\n",
      "Epoch 96/100\n",
      "27/27 [==============================] - 0s 833us/step - loss: 3.0435e-09 - mae: 2.5920e-05 - val_loss: 0.2564 - val_mae: 0.0366\n",
      "Epoch 97/100\n",
      "27/27 [==============================] - 0s 815us/step - loss: 2.0233e-09 - mae: 1.5665e-05 - val_loss: 0.2564 - val_mae: 0.0367\n",
      "Epoch 98/100\n",
      "27/27 [==============================] - 0s 794us/step - loss: 2.9091e-09 - mae: 3.8218e-05 - val_loss: 0.2564 - val_mae: 0.0367\n",
      "Epoch 99/100\n",
      "27/27 [==============================] - 0s 789us/step - loss: 1.4095e-09 - mae: 1.9900e-05 - val_loss: 0.2564 - val_mae: 0.0366\n",
      "Epoch 100/100\n",
      "27/27 [==============================] - 0s 764us/step - loss: 8.1153e-10 - mae: 1.2165e-05 - val_loss: 0.2564 - val_mae: 0.0366\n"
     ]
    }
   ],
   "source": [
    "# Use your training data to fit (train) the model. This is where the model learns from the data.\n",
    "history = model.fit(X_train, y_train, epochs=100, batch_size=32, validation_split=0.2)"
   ]
  },
  {
   "cell_type": "markdown",
   "id": "1a5f92af",
   "metadata": {},
   "source": [
    "\n",
    "Fits application of model with 50 epochs, had a loss function of: 360.1544 extremely high\n",
    "\n",
    "testing with 100 epochs changed to 2.5 loss and a mae of  0.0003\n",
    "\n"
   ]
  },
  {
   "cell_type": "markdown",
   "id": "818e1077",
   "metadata": {},
   "source": [
    "### Evaluating the model using Mean Absolute Error\n"
   ]
  },
  {
   "cell_type": "code",
   "execution_count": 45,
   "id": "2c55b324",
   "metadata": {},
   "outputs": [
    {
     "name": "stdout",
     "output_type": "stream",
     "text": [
      "9/9 [==============================] - 0s 662us/step - loss: 2.5708e-05 - mae: 3.2953e-04\n",
      "Mean Absolute Error: 0.0003295333299320191\n"
     ]
    }
   ],
   "source": [
    "# Use your test data to evaluate the model's performance.\n",
    "loss, mae = model.evaluate(X_test, y_test)\n",
    "print(f'Mean Absolute Error: {mae}')"
   ]
  },
  {
   "cell_type": "code",
   "execution_count": null,
   "id": "b7823386",
   "metadata": {},
   "outputs": [],
   "source": []
  },
  {
   "cell_type": "code",
   "execution_count": 33,
   "id": "f1cce4a1",
   "metadata": {},
   "outputs": [
    {
     "name": "stdout",
     "output_type": "stream",
     "text": [
      "9/9 [==============================] - 0s 377us/step\n"
     ]
    }
   ],
   "source": [
    "# Once you're satisfied with the model's performance, you can use it to make predictions on new data.\n",
    "predictions = model.predict(X_test)"
   ]
  },
  {
   "cell_type": "code",
   "execution_count": null,
   "id": "128b0336",
   "metadata": {},
   "outputs": [],
   "source": []
  },
  {
   "cell_type": "markdown",
   "id": "9af9df2e",
   "metadata": {},
   "source": [
    "FNN with 3 hidden layers\n"
   ]
  },
  {
   "cell_type": "code",
   "execution_count": 34,
   "id": "3617fef3",
   "metadata": {},
   "outputs": [],
   "source": [
    "# Create a Sequential model\n",
    "model_deep = Sequential()\n",
    "\n",
    "# Input Layer\n",
    "model_deep.add(Dense(units=2, input_dim=2, activation='relu'))\n",
    "\n",
    "# Hidden Layers\n",
    "model_deep.add(Dense(units=8, activation='relu'))\n",
    "model_deep.add(Dense(units=8, activation='relu'))\n",
    "model_deep.add(Dense(units=8, activation='relu'))\n",
    "\n",
    "# Output Layer\n",
    "model_deep.add(Dense(units=1, activation='linear'))  "
   ]
  },
  {
   "cell_type": "code",
   "execution_count": 35,
   "id": "eab0d21d",
   "metadata": {},
   "outputs": [],
   "source": [
    "# Choose a loss function (mean squared error is common for regression tasks),\n",
    "# an optimizer (e.g., Adam), and any metrics you want to track.\n",
    "model.compile(optimizer='adam', loss='mean_squared_error', metrics=['mae'])"
   ]
  },
  {
   "cell_type": "code",
   "execution_count": 36,
   "id": "1349dbbf",
   "metadata": {},
   "outputs": [
    {
     "name": "stdout",
     "output_type": "stream",
     "text": [
      "Epoch 1/50\n",
      "27/27 [==============================] - 1s 14ms/step - loss: 339.3364 - mae: 14.9613 - val_loss: 305.4271 - val_mae: 13.5184\n",
      "Epoch 2/50\n",
      "27/27 [==============================] - 0s 864us/step - loss: 314.0743 - mae: 14.2005 - val_loss: 285.0329 - val_mae: 12.8779\n",
      "Epoch 3/50\n",
      "27/27 [==============================] - 0s 859us/step - loss: 293.1300 - mae: 13.4692 - val_loss: 266.8368 - val_mae: 12.2791\n",
      "Epoch 4/50\n",
      "27/27 [==============================] - 0s 867us/step - loss: 272.0810 - mae: 12.9114 - val_loss: 249.8208 - val_mae: 11.7621\n",
      "Epoch 5/50\n",
      "27/27 [==============================] - 0s 904us/step - loss: 254.2563 - mae: 12.3500 - val_loss: 233.0995 - val_mae: 11.2738\n",
      "Epoch 6/50\n",
      "27/27 [==============================] - 0s 840us/step - loss: 236.0979 - mae: 11.8495 - val_loss: 217.4993 - val_mae: 10.8110\n",
      "Epoch 7/50\n",
      "27/27 [==============================] - 0s 817us/step - loss: 219.5645 - mae: 11.3658 - val_loss: 202.4387 - val_mae: 10.3549\n",
      "Epoch 8/50\n",
      "27/27 [==============================] - 0s 815us/step - loss: 204.1107 - mae: 10.8879 - val_loss: 188.2657 - val_mae: 9.9107\n",
      "Epoch 9/50\n",
      "27/27 [==============================] - 0s 823us/step - loss: 189.2373 - mae: 10.4709 - val_loss: 174.3301 - val_mae: 9.5009\n",
      "Epoch 10/50\n",
      "27/27 [==============================] - 0s 842us/step - loss: 175.4747 - mae: 10.0398 - val_loss: 161.5587 - val_mae: 9.0671\n",
      "Epoch 11/50\n",
      "27/27 [==============================] - 0s 846us/step - loss: 162.3502 - mae: 9.5304 - val_loss: 149.4617 - val_mae: 8.6145\n",
      "Epoch 12/50\n",
      "27/27 [==============================] - 0s 815us/step - loss: 150.3190 - mae: 9.0908 - val_loss: 138.4384 - val_mae: 8.2051\n",
      "Epoch 13/50\n",
      "27/27 [==============================] - 0s 844us/step - loss: 139.1855 - mae: 8.8399 - val_loss: 127.5737 - val_mae: 7.8774\n",
      "Epoch 14/50\n",
      "27/27 [==============================] - 0s 802us/step - loss: 127.9727 - mae: 8.2990 - val_loss: 117.6786 - val_mae: 7.3988\n",
      "Epoch 15/50\n",
      "27/27 [==============================] - 0s 801us/step - loss: 117.9388 - mae: 7.9763 - val_loss: 107.8018 - val_mae: 7.0606\n",
      "Epoch 16/50\n",
      "27/27 [==============================] - 0s 837us/step - loss: 107.9014 - mae: 7.4757 - val_loss: 99.4907 - val_mae: 6.6200\n",
      "Epoch 17/50\n",
      "27/27 [==============================] - 0s 787us/step - loss: 98.8386 - mae: 7.0829 - val_loss: 90.9386 - val_mae: 6.3035\n",
      "Epoch 18/50\n",
      "27/27 [==============================] - 0s 819us/step - loss: 90.3632 - mae: 6.7994 - val_loss: 82.9068 - val_mae: 6.0007\n",
      "Epoch 19/50\n",
      "27/27 [==============================] - 0s 888us/step - loss: 82.1890 - mae: 6.4684 - val_loss: 75.7344 - val_mae: 5.6749\n",
      "Epoch 20/50\n",
      "27/27 [==============================] - 0s 788us/step - loss: 74.5795 - mae: 6.0121 - val_loss: 69.3996 - val_mae: 5.3009\n",
      "Epoch 21/50\n",
      "27/27 [==============================] - 0s 843us/step - loss: 68.0398 - mae: 5.7407 - val_loss: 63.0900 - val_mae: 5.0404\n",
      "Epoch 22/50\n",
      "27/27 [==============================] - 0s 785us/step - loss: 61.4659 - mae: 5.3477 - val_loss: 57.9098 - val_mae: 4.7046\n",
      "Epoch 23/50\n",
      "27/27 [==============================] - 0s 815us/step - loss: 55.8265 - mae: 5.0239 - val_loss: 52.8785 - val_mae: 4.4499\n",
      "Epoch 24/50\n",
      "27/27 [==============================] - 0s 827us/step - loss: 50.7194 - mae: 4.6834 - val_loss: 48.7604 - val_mae: 4.1751\n",
      "Epoch 25/50\n",
      "27/27 [==============================] - 0s 792us/step - loss: 45.9832 - mae: 4.5568 - val_loss: 44.2468 - val_mae: 4.0304\n",
      "Epoch 26/50\n",
      "27/27 [==============================] - 0s 818us/step - loss: 41.5138 - mae: 4.2745 - val_loss: 40.3831 - val_mae: 3.7954\n",
      "Epoch 27/50\n",
      "27/27 [==============================] - 0s 825us/step - loss: 37.4280 - mae: 3.9442 - val_loss: 37.0023 - val_mae: 3.4809\n",
      "Epoch 28/50\n",
      "27/27 [==============================] - 0s 796us/step - loss: 33.8343 - mae: 3.6843 - val_loss: 33.6198 - val_mae: 3.3004\n",
      "Epoch 29/50\n",
      "27/27 [==============================] - 0s 796us/step - loss: 30.4142 - mae: 3.4548 - val_loss: 30.8591 - val_mae: 3.0711\n",
      "Epoch 30/50\n",
      "27/27 [==============================] - 0s 852us/step - loss: 27.5547 - mae: 3.2928 - val_loss: 27.8522 - val_mae: 2.9321\n",
      "Epoch 31/50\n",
      "27/27 [==============================] - 0s 782us/step - loss: 24.6448 - mae: 3.0284 - val_loss: 25.4834 - val_mae: 2.6998\n",
      "Epoch 32/50\n",
      "27/27 [==============================] - 0s 857us/step - loss: 22.1254 - mae: 2.8298 - val_loss: 23.2686 - val_mae: 2.5117\n",
      "Epoch 33/50\n",
      "27/27 [==============================] - 0s 1ms/step - loss: 19.8700 - mae: 2.6551 - val_loss: 21.1278 - val_mae: 2.3524\n",
      "Epoch 34/50\n",
      "27/27 [==============================] - 0s 846us/step - loss: 17.7799 - mae: 2.4671 - val_loss: 19.1389 - val_mae: 2.1876\n",
      "Epoch 35/50\n",
      "27/27 [==============================] - 0s 793us/step - loss: 15.8646 - mae: 2.2705 - val_loss: 17.4760 - val_mae: 2.0216\n",
      "Epoch 36/50\n",
      "27/27 [==============================] - 0s 829us/step - loss: 14.1522 - mae: 2.0703 - val_loss: 16.0275 - val_mae: 1.8579\n",
      "Epoch 37/50\n",
      "27/27 [==============================] - 0s 806us/step - loss: 12.7015 - mae: 1.9172 - val_loss: 14.6238 - val_mae: 1.7340\n",
      "Epoch 38/50\n",
      "27/27 [==============================] - 0s 785us/step - loss: 11.4490 - mae: 1.8380 - val_loss: 13.3717 - val_mae: 1.6492\n",
      "Epoch 39/50\n",
      "27/27 [==============================] - 0s 819us/step - loss: 10.1468 - mae: 1.6032 - val_loss: 12.3322 - val_mae: 1.5143\n",
      "Epoch 40/50\n",
      "27/27 [==============================] - 0s 792us/step - loss: 9.1457 - mae: 1.5190 - val_loss: 11.3449 - val_mae: 1.4321\n",
      "Epoch 41/50\n",
      "27/27 [==============================] - 0s 767us/step - loss: 8.2335 - mae: 1.4277 - val_loss: 10.4063 - val_mae: 1.3754\n",
      "Epoch 42/50\n",
      "27/27 [==============================] - 0s 791us/step - loss: 7.4291 - mae: 1.3402 - val_loss: 9.6436 - val_mae: 1.2713\n",
      "Epoch 43/50\n",
      "27/27 [==============================] - 0s 788us/step - loss: 6.7258 - mae: 1.1890 - val_loss: 8.9551 - val_mae: 1.1781\n",
      "Epoch 44/50\n",
      "27/27 [==============================] - 0s 990us/step - loss: 6.1285 - mae: 1.1634 - val_loss: 8.2692 - val_mae: 1.1172\n",
      "Epoch 45/50\n",
      "27/27 [==============================] - 0s 814us/step - loss: 5.5664 - mae: 1.0892 - val_loss: 7.6173 - val_mae: 1.0394\n",
      "Epoch 46/50\n",
      "27/27 [==============================] - 0s 788us/step - loss: 5.0201 - mae: 0.9388 - val_loss: 7.1583 - val_mae: 0.9185\n",
      "Epoch 47/50\n",
      "27/27 [==============================] - 0s 780us/step - loss: 4.5895 - mae: 0.8953 - val_loss: 6.6005 - val_mae: 0.8995\n",
      "Epoch 48/50\n",
      "27/27 [==============================] - 0s 797us/step - loss: 4.2044 - mae: 0.8443 - val_loss: 6.1392 - val_mae: 0.8611\n",
      "Epoch 49/50\n",
      "27/27 [==============================] - 0s 795us/step - loss: 3.8220 - mae: 0.8053 - val_loss: 5.7412 - val_mae: 0.7719\n",
      "Epoch 50/50\n",
      "27/27 [==============================] - 0s 788us/step - loss: 3.5058 - mae: 0.7029 - val_loss: 5.4143 - val_mae: 0.7293\n"
     ]
    }
   ],
   "source": [
    "# Use your training data to fit (train) the model. This is where the model learns from the data.\n",
    "history = model.fit(X_train, y_train, epochs=50, batch_size=32, validation_split=0.2)"
   ]
  },
  {
   "cell_type": "markdown",
   "id": "8ac07c55",
   "metadata": {},
   "source": [
    "## Fine-tuning\n"
   ]
  },
  {
   "cell_type": "code",
   "execution_count": 46,
   "id": "842c3611",
   "metadata": {},
   "outputs": [],
   "source": [
    "from keras.optimizers import Adam\n",
    "\n",
    "custom_optimizer = Adam(learning_rate=0.001) # Specify the learning rate\n",
    "model.compile(optimizer=custom_optimizer, loss='mean_squared_error', metrics=['mae'])"
   ]
  },
  {
   "cell_type": "code",
   "execution_count": 47,
   "id": "8424dec0",
   "metadata": {},
   "outputs": [
    {
     "name": "stdout",
     "output_type": "stream",
     "text": [
      "9/9 [==============================] - 0s 488us/step - loss: 2.5708e-05 - mae: 3.2953e-04\n",
      "Mean Absolute Error: 0.0003295333299320191\n"
     ]
    }
   ],
   "source": [
    "# Use your test data to evaluate the model's performance with 3 hifdden layers \n",
    "loss, mae = model.evaluate(X_test, y_test)\n",
    "print(f'Mean Absolute Error: {mae}')"
   ]
  },
  {
   "cell_type": "code",
   "execution_count": null,
   "id": "67325871",
   "metadata": {},
   "outputs": [],
   "source": []
  },
  {
   "cell_type": "code",
   "execution_count": null,
   "id": "9b07f75a",
   "metadata": {},
   "outputs": [],
   "source": []
  }
 ],
 "metadata": {
  "kernelspec": {
   "display_name": "Python 3 (ipykernel)",
   "language": "python",
   "name": "python3"
  },
  "language_info": {
   "codemirror_mode": {
    "name": "ipython",
    "version": 3
   },
   "file_extension": ".py",
   "mimetype": "text/x-python",
   "name": "python",
   "nbconvert_exporter": "python",
   "pygments_lexer": "ipython3",
   "version": "3.10.9"
  }
 },
 "nbformat": 4,
 "nbformat_minor": 5
}
